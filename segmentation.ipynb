{
 "cells": [
  {
   "cell_type": "code",
   "execution_count": 1,
   "metadata": {},
   "outputs": [],
   "source": [
    "import pandas as pd\n",
    "import numpy as np\n",
    "import os\n",
    "import matplotlib.pyplot as plt\n",
    "import mne\n",
    "import scipy.io\n",
    "import shutil\n",
    "from scipy.signal import resample, resample_poly, decimate"
   ]
  },
  {
   "cell_type": "code",
   "execution_count": 2,
   "metadata": {},
   "outputs": [],
   "source": [
    "# Hyper Params\n",
    "\n",
    "oldFS = 256\n",
    "newFS = 32\n",
    "length = 8 * newFS\n",
    "stride = length\n",
    "p = 0.5"
   ]
  },
  {
   "cell_type": "code",
   "execution_count": 3,
   "metadata": {},
   "outputs": [],
   "source": [
    "def downsample(data, oldFS, newFS):\n",
    "    newNumSamples = int((data.shape[0] / oldFS) * newFS)\n",
    "    newData = pd.DataFrame(resample(data[data.columns[:-1]], newNumSamples))\n",
    "    annotation_indices = list(range(0, len(data), 8))\n",
    "    annotation = data.annotation.loc[annotation_indices].reset_index(drop = True)\n",
    "    newData['annotation'] = annotation\n",
    "    return newData"
   ]
  },
  {
   "cell_type": "code",
   "execution_count": 4,
   "metadata": {
    "scrolled": true
   },
   "outputs": [
    {
     "name": "stdout",
     "output_type": "stream",
     "text": [
      "eeg1.csv\n",
      "eeg10.csv\n",
      "eeg11.csv\n",
      "eeg12.csv\n",
      "eeg13.csv\n",
      "eeg14.csv\n",
      "eeg15.csv\n",
      "eeg16.csv\n",
      "eeg17.csv\n",
      "eeg18.csv\n",
      "eeg19.csv\n",
      "eeg2.csv\n",
      "eeg20.csv\n",
      "eeg21.csv\n",
      "eeg22.csv\n",
      "eeg23.csv\n",
      "eeg25.csv\n",
      "eeg26.csv\n",
      "eeg27.csv\n",
      "eeg28.csv\n",
      "eeg29.csv\n",
      "eeg3.csv\n",
      "eeg30.csv\n",
      "eeg31.csv\n",
      "eeg32.csv\n",
      "eeg33.csv\n",
      "eeg34.csv\n",
      "eeg35.csv\n",
      "eeg36.csv\n",
      "eeg37.csv\n",
      "eeg38.csv\n",
      "eeg39.csv\n",
      "eeg4.csv\n",
      "eeg40.csv\n",
      "eeg41.csv\n",
      "eeg42.csv\n",
      "eeg43.csv\n",
      "eeg44.csv\n",
      "eeg45.csv\n",
      "eeg46.csv\n",
      "eeg47.csv\n",
      "eeg48.csv\n",
      "eeg49.csv\n",
      "eeg5.csv\n",
      "eeg50.csv\n",
      "eeg51.csv\n",
      "eeg52.csv\n",
      "eeg53.csv\n",
      "eeg54.csv\n",
      "eeg55.csv\n",
      "eeg56.csv\n",
      "eeg57.csv\n",
      "eeg58.csv\n",
      "eeg59.csv\n",
      "eeg6.csv\n",
      "eeg60.csv\n",
      "eeg62.csv\n",
      "eeg63.csv\n",
      "eeg64.csv\n",
      "eeg65.csv\n",
      "eeg66.csv\n",
      "eeg67.csv\n",
      "eeg68.csv\n",
      "eeg69.csv\n",
      "eeg7.csv\n",
      "eeg70.csv\n",
      "eeg71.csv\n",
      "eeg72.csv\n",
      "eeg73.csv\n",
      "eeg74.csv\n",
      "eeg75.csv\n",
      "eeg76.csv\n",
      "eeg77.csv\n",
      "eeg78.csv\n",
      "eeg8.csv\n",
      "eeg9.csv\n",
      "Wall time: 12min 39s\n"
     ]
    }
   ],
   "source": [
    "%%time\n",
    "\n",
    "path = 'eldfs/'\n",
    "babydfs = list()\n",
    "for file in sorted(os.listdir(path)):\n",
    "    print(file)\n",
    "    df = downsample(pd.read_csv(path + file), oldFS, newFS)\n",
    "    finaldfs = list()\n",
    "    for i in range(0, len(df), stride):\n",
    "        annotation = 0\n",
    "        try:\n",
    "            if df[df.columns[-1]].iloc[i:i+length].value_counts()[1] > int(p * length):\n",
    "                annotation = 1\n",
    "        except:\n",
    "            annotation = 0\n",
    "        int_dfs = list()\n",
    "        for j in range(21):\n",
    "            window = df[df.columns[j]].iloc[i:i+length]\n",
    "            int_dfs.append(window)\n",
    "        int_df = pd.DataFrame(pd.concat(int_dfs, axis = 0, ignore_index = True)).T\n",
    "        int_df['annotation'] = annotation\n",
    "\n",
    "        finaldfs.append(int_df)\n",
    "    finaldf = pd.concat(finaldfs, axis = 0)\n",
    "    babydfs.append(finaldf)\n",
    "babydf = pd.concat(babydfs, axis = 0).reset_index(drop = True).dropna(how = 'any')"
   ]
  },
  {
   "cell_type": "code",
   "execution_count": 5,
   "metadata": {},
   "outputs": [],
   "source": [
    "babydf.to_csv('babydf8sec.csv')"
   ]
  },
  {
   "cell_type": "code",
   "execution_count": 7,
   "metadata": {},
   "outputs": [
    {
     "data": {
      "text/plain": [
       "47876"
      ]
     },
     "execution_count": 7,
     "metadata": {},
     "output_type": "execute_result"
    }
   ],
   "source": [
    "babydf = babydf.dropna(how = 'any')\n",
    "len(babydf)"
   ]
  }
 ],
 "metadata": {
  "kernelspec": {
   "display_name": "Python 3",
   "language": "python",
   "name": "python3"
  },
  "language_info": {
   "codemirror_mode": {
    "name": "ipython",
    "version": 3
   },
   "file_extension": ".py",
   "mimetype": "text/x-python",
   "name": "python",
   "nbconvert_exporter": "python",
   "pygments_lexer": "ipython3",
   "version": "3.9.8"
  }
 },
 "nbformat": 4,
 "nbformat_minor": 4
}

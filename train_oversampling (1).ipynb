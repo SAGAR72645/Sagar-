{
  "cells": [
    {
      "cell_type": "code",
      "execution_count": 1,
      "metadata": {
        "id": "sSQVPGQvYVKb"
      },
      "outputs": [
        {
          "name": "stderr",
          "output_type": "stream",
          "text": [
            "C:\\Users\\siddh\\AppData\\Local\\Programs\\Python\\Python39\\lib\\site-packages\\xgboost\\compat.py:36: FutureWarning: pandas.Int64Index is deprecated and will be removed from pandas in a future version. Use pandas.Index with the appropriate dtype instead.\n",
            "  from pandas import MultiIndex, Int64Index\n"
          ]
        }
      ],
      "source": [
        "#loading dataset\n",
        "import pandas as pd\n",
        "import numpy as np\n",
        "\n",
        "#visualisation\n",
        "import matplotlib.pyplot as plt\n",
        "import seaborn as sns\n",
        "# data preprocessing\n",
        "from sklearn.preprocessing import StandardScaler\n",
        "\n",
        "# data splitting\n",
        "from sklearn.model_selection import train_test_split\n",
        "\n",
        "# data modeling\n",
        "from sklearn.metrics import confusion_matrix\n",
        "from sklearn.metrics import accuracy_score\n",
        "from sklearn.metrics import roc_curve\n",
        "from sklearn.metrics import classification_report\n",
        "from sklearn.metrics import roc_auc_score\n",
        "\n",
        "# All Model`s\n",
        "from sklearn.linear_model import LogisticRegression\n",
        "from sklearn.neighbors import KNeighborsClassifier\n",
        "from sklearn.svm import SVC\n",
        "from sklearn.ensemble import RandomForestClassifier\n",
        "from sklearn.tree import DecisionTreeClassifier\n",
        "from xgboost import XGBClassifier\n",
        "from sklearn.ensemble import  AdaBoostClassifier\n",
        "from sklearn.ensemble import  GradientBoostingClassifier"
      ]
    },
    {
      "cell_type": "code",
      "execution_count": 2,
      "metadata": {
        "id": "PQ175ZMEYuoI"
      },
      "outputs": [],
      "source": [
        "import warnings\n",
        "warnings.filterwarnings('ignore')"
      ]
    },
    {
      "cell_type": "code",
      "execution_count": 3,
      "metadata": {
        "colab": {
          "base_uri": "https://localhost:8080/",
          "height": 300
        },
        "id": "yfSm4pjMY1uT",
        "outputId": "b32aeea1-7608-4f08-f42a-7c3a13967f66"
      },
      "outputs": [
        {
          "data": {
            "text/html": [
              "<div>\n",
              "<style scoped>\n",
              "    .dataframe tbody tr th:only-of-type {\n",
              "        vertical-align: middle;\n",
              "    }\n",
              "\n",
              "    .dataframe tbody tr th {\n",
              "        vertical-align: top;\n",
              "    }\n",
              "\n",
              "    .dataframe thead th {\n",
              "        text-align: right;\n",
              "    }\n",
              "</style>\n",
              "<table border=\"1\" class=\"dataframe\">\n",
              "  <thead>\n",
              "    <tr style=\"text-align: right;\">\n",
              "      <th></th>\n",
              "      <th>0</th>\n",
              "      <th>1</th>\n",
              "      <th>2</th>\n",
              "      <th>3</th>\n",
              "      <th>4</th>\n",
              "      <th>5</th>\n",
              "      <th>6</th>\n",
              "      <th>7</th>\n",
              "      <th>8</th>\n",
              "      <th>9</th>\n",
              "      <th>...</th>\n",
              "      <th>222</th>\n",
              "      <th>223</th>\n",
              "      <th>224</th>\n",
              "      <th>225</th>\n",
              "      <th>226</th>\n",
              "      <th>227</th>\n",
              "      <th>228</th>\n",
              "      <th>229</th>\n",
              "      <th>230</th>\n",
              "      <th>result</th>\n",
              "    </tr>\n",
              "  </thead>\n",
              "  <tbody>\n",
              "    <tr>\n",
              "      <th>4596</th>\n",
              "      <td>0.495455</td>\n",
              "      <td>0.516959</td>\n",
              "      <td>0.615276</td>\n",
              "      <td>0.523371</td>\n",
              "      <td>0.533297</td>\n",
              "      <td>0.484361</td>\n",
              "      <td>0.513419</td>\n",
              "      <td>0.523101</td>\n",
              "      <td>0.538269</td>\n",
              "      <td>0.525135</td>\n",
              "      <td>...</td>\n",
              "      <td>0.857056</td>\n",
              "      <td>1.023790</td>\n",
              "      <td>0.920779</td>\n",
              "      <td>0.980678</td>\n",
              "      <td>0.908250</td>\n",
              "      <td>0.942283</td>\n",
              "      <td>0.931880</td>\n",
              "      <td>0.850446</td>\n",
              "      <td>0.496418</td>\n",
              "      <td>1</td>\n",
              "    </tr>\n",
              "    <tr>\n",
              "      <th>5568</th>\n",
              "      <td>0.526908</td>\n",
              "      <td>0.476845</td>\n",
              "      <td>0.472404</td>\n",
              "      <td>0.525204</td>\n",
              "      <td>0.583182</td>\n",
              "      <td>0.574992</td>\n",
              "      <td>0.566820</td>\n",
              "      <td>0.454632</td>\n",
              "      <td>0.481055</td>\n",
              "      <td>0.506118</td>\n",
              "      <td>...</td>\n",
              "      <td>1.124749</td>\n",
              "      <td>1.012972</td>\n",
              "      <td>1.035460</td>\n",
              "      <td>0.962708</td>\n",
              "      <td>0.762510</td>\n",
              "      <td>1.064483</td>\n",
              "      <td>0.989364</td>\n",
              "      <td>0.676256</td>\n",
              "      <td>0.380559</td>\n",
              "      <td>0</td>\n",
              "    </tr>\n",
              "    <tr>\n",
              "      <th>45488</th>\n",
              "      <td>0.437477</td>\n",
              "      <td>0.397445</td>\n",
              "      <td>0.484761</td>\n",
              "      <td>0.447765</td>\n",
              "      <td>0.467717</td>\n",
              "      <td>0.432670</td>\n",
              "      <td>0.405331</td>\n",
              "      <td>0.442781</td>\n",
              "      <td>0.390536</td>\n",
              "      <td>0.403883</td>\n",
              "      <td>...</td>\n",
              "      <td>1.041658</td>\n",
              "      <td>0.933557</td>\n",
              "      <td>0.904035</td>\n",
              "      <td>0.906592</td>\n",
              "      <td>1.089100</td>\n",
              "      <td>0.968723</td>\n",
              "      <td>0.979288</td>\n",
              "      <td>0.888380</td>\n",
              "      <td>0.278876</td>\n",
              "      <td>0</td>\n",
              "    </tr>\n",
              "    <tr>\n",
              "      <th>29656</th>\n",
              "      <td>0.490229</td>\n",
              "      <td>0.466044</td>\n",
              "      <td>0.619428</td>\n",
              "      <td>0.465500</td>\n",
              "      <td>0.499202</td>\n",
              "      <td>0.507602</td>\n",
              "      <td>0.435800</td>\n",
              "      <td>0.435961</td>\n",
              "      <td>0.465114</td>\n",
              "      <td>0.330358</td>\n",
              "      <td>...</td>\n",
              "      <td>0.972967</td>\n",
              "      <td>1.066674</td>\n",
              "      <td>1.006747</td>\n",
              "      <td>0.856639</td>\n",
              "      <td>0.952131</td>\n",
              "      <td>0.940746</td>\n",
              "      <td>0.951894</td>\n",
              "      <td>0.616491</td>\n",
              "      <td>0.549793</td>\n",
              "      <td>0</td>\n",
              "    </tr>\n",
              "    <tr>\n",
              "      <th>17833</th>\n",
              "      <td>0.358400</td>\n",
              "      <td>0.342035</td>\n",
              "      <td>0.357946</td>\n",
              "      <td>0.325434</td>\n",
              "      <td>0.398409</td>\n",
              "      <td>0.323209</td>\n",
              "      <td>0.354913</td>\n",
              "      <td>0.513078</td>\n",
              "      <td>0.431520</td>\n",
              "      <td>0.539522</td>\n",
              "      <td>...</td>\n",
              "      <td>0.881512</td>\n",
              "      <td>0.826610</td>\n",
              "      <td>0.891310</td>\n",
              "      <td>0.849017</td>\n",
              "      <td>0.888318</td>\n",
              "      <td>0.981967</td>\n",
              "      <td>0.892492</td>\n",
              "      <td>0.603686</td>\n",
              "      <td>0.470165</td>\n",
              "      <td>0</td>\n",
              "    </tr>\n",
              "  </tbody>\n",
              "</table>\n",
              "<p>5 rows × 232 columns</p>\n",
              "</div>"
            ],
            "text/plain": [
              "              0         1         2         3         4         5         6  \\\n",
              "4596   0.495455  0.516959  0.615276  0.523371  0.533297  0.484361  0.513419   \n",
              "5568   0.526908  0.476845  0.472404  0.525204  0.583182  0.574992  0.566820   \n",
              "45488  0.437477  0.397445  0.484761  0.447765  0.467717  0.432670  0.405331   \n",
              "29656  0.490229  0.466044  0.619428  0.465500  0.499202  0.507602  0.435800   \n",
              "17833  0.358400  0.342035  0.357946  0.325434  0.398409  0.323209  0.354913   \n",
              "\n",
              "              7         8         9  ...       222       223       224  \\\n",
              "4596   0.523101  0.538269  0.525135  ...  0.857056  1.023790  0.920779   \n",
              "5568   0.454632  0.481055  0.506118  ...  1.124749  1.012972  1.035460   \n",
              "45488  0.442781  0.390536  0.403883  ...  1.041658  0.933557  0.904035   \n",
              "29656  0.435961  0.465114  0.330358  ...  0.972967  1.066674  1.006747   \n",
              "17833  0.513078  0.431520  0.539522  ...  0.881512  0.826610  0.891310   \n",
              "\n",
              "            225       226       227       228       229       230  result  \n",
              "4596   0.980678  0.908250  0.942283  0.931880  0.850446  0.496418       1  \n",
              "5568   0.962708  0.762510  1.064483  0.989364  0.676256  0.380559       0  \n",
              "45488  0.906592  1.089100  0.968723  0.979288  0.888380  0.278876       0  \n",
              "29656  0.856639  0.952131  0.940746  0.951894  0.616491  0.549793       0  \n",
              "17833  0.849017  0.888318  0.981967  0.892492  0.603686  0.470165       0  \n",
              "\n",
              "[5 rows x 232 columns]"
            ]
          },
          "execution_count": 3,
          "metadata": {},
          "output_type": "execute_result"
        }
      ],
      "source": [
        "df = pd.read_csv(r\"F:\\Full_feature_data8sec\\Full_feature_data8sec new.csv\")\n",
        "df.sample(5)"
      ]
    },
    {
      "cell_type": "code",
      "execution_count": 4,
      "metadata": {
        "colab": {
          "base_uri": "https://localhost:8080/"
        },
        "id": "aypKIf4HY7fH",
        "outputId": "a9dd6f65-70f5-4461-8e0c-40d3b0d2e4ce"
      },
      "outputs": [
        {
          "data": {
            "text/plain": [
              "0    42209\n",
              "1     5667\n",
              "Name: result, dtype: int64"
            ]
          },
          "execution_count": 4,
          "metadata": {},
          "output_type": "execute_result"
        }
      ],
      "source": [
        "df.result.value_counts()"
      ]
    },
    {
      "cell_type": "code",
      "execution_count": 5,
      "metadata": {
        "colab": {
          "base_uri": "https://localhost:8080/"
        },
        "id": "3tdDE6p_ZCAv",
        "outputId": "a227864d-3407-4c8a-cd59-6c098698ca3a"
      },
      "outputs": [
        {
          "name": "stdout",
          "output_type": "stream",
          "text": [
            "Requirement already satisfied: tensorflow-addons in c:\\users\\siddh\\appdata\\local\\programs\\python\\python39\\lib\\site-packages (0.16.1)\n",
            "Requirement already satisfied: typeguard>=2.7 in c:\\users\\siddh\\appdata\\local\\programs\\python\\python39\\lib\\site-packages (from tensorflow-addons) (2.13.3)\n",
            "Note: you may need to restart the kernel to use updated packages.\n"
          ]
        }
      ],
      "source": [
        "pip install tensorflow-addons"
      ]
    },
    {
      "cell_type": "code",
      "execution_count": 6,
      "metadata": {
        "id": "ARVTbaPOZKWX"
      },
      "outputs": [],
      "source": [
        "import tensorflow as tf\n",
        "from tensorflow import keras\n",
        "from sklearn.metrics import confusion_matrix , classification_report\n",
        "\n",
        "from tensorflow_addons import losses"
      ]
    },
    {
      "cell_type": "code",
      "execution_count": 7,
      "metadata": {
        "id": "MS6DwAeGaSnr"
      },
      "outputs": [],
      "source": [
        "from sklearn.model_selection import train_test_split\n",
        "\n",
        "X=df.iloc[:,:-1].values\n",
        "y=df.iloc[:,-1].values"
      ]
    },
    {
      "cell_type": "code",
      "execution_count": 8,
      "metadata": {
        "colab": {
          "base_uri": "https://localhost:8080/"
        },
        "id": "hQ83WTx3am4n",
        "outputId": "67c25bb3-2c8a-4e11-c873-0f83a119edfa"
      },
      "outputs": [
        {
          "data": {
            "text/plain": [
              "((47876, 231), (47876,))"
            ]
          },
          "execution_count": 8,
          "metadata": {},
          "output_type": "execute_result"
        }
      ],
      "source": [
        "X.shape,y.shape"
      ]
    },
    {
      "cell_type": "code",
      "execution_count": 9,
      "metadata": {
        "colab": {
          "base_uri": "https://localhost:8080/"
        },
        "id": "DqMeG7rxZyxn",
        "outputId": "b2f6ba28-cd90-4cab-85e3-465637bf51cb"
      },
      "outputs": [
        {
          "name": "stdout",
          "output_type": "stream",
          "text": [
            "Number transactions X_train dataset:  (33513, 231)\n",
            "Number transactions y_train dataset:  (33513,)\n",
            "Number transactions X_test dataset:  (14363, 231)\n",
            "Number transactions y_test dataset:  (14363,)\n"
          ]
        }
      ],
      "source": [
        "from imblearn.over_sampling import SMOTE\n",
        "\n",
        "from sklearn.model_selection import train_test_split\n",
        "\n",
        "X_train, X_test, y_train, y_test = train_test_split(X, y, test_size=0.3, random_state=0)\n",
        "\n",
        "print(\"Number transactions X_train dataset: \", X_train.shape)\n",
        "print(\"Number transactions y_train dataset: \", y_train.shape)\n",
        "print(\"Number transactions X_test dataset: \", X_test.shape)\n",
        "print(\"Number transactions y_test dataset: \", y_test.shape)"
      ]
    },
    {
      "cell_type": "code",
      "execution_count": 10,
      "metadata": {
        "colab": {
          "base_uri": "https://localhost:8080/"
        },
        "id": "GFXzcWc5bCtW",
        "outputId": "fc37ac74-857e-4335-f195-428f9462bd10"
      },
      "outputs": [
        {
          "name": "stdout",
          "output_type": "stream",
          "text": [
            "Before OverSampling, counts of label '1': 3975\n",
            "Before OverSampling, counts of label '0': 29538 \n",
            "\n",
            "After OverSampling, the shape of train_X: (59076, 231)\n",
            "After OverSampling, the shape of train_y: (59076,) \n",
            "\n",
            "After OverSampling, counts of label '1': 29538\n",
            "After OverSampling, counts of label '0': 29538\n"
          ]
        }
      ],
      "source": [
        "print(\"Before OverSampling, counts of label '1': {}\".format(sum(y_train==1)))\n",
        "print(\"Before OverSampling, counts of label '0': {} \\n\".format(sum(y_train==0)))\n",
        "\n",
        "sm = SMOTE(random_state=2)\n",
        "X_train_res, y_train_res = sm.fit_resample(X_train, y_train.ravel())\n",
        "\n",
        "print('After OverSampling, the shape of train_X: {}'.format(X_train_res.shape))\n",
        "print('After OverSampling, the shape of train_y: {} \\n'.format(y_train_res.shape))\n",
        "\n",
        "print(\"After OverSampling, counts of label '1': {}\".format(sum(y_train_res==1)))\n",
        "print(\"After OverSampling, counts of label '0': {}\".format(sum(y_train_res==0)))"
      ]
    },
    {
      "cell_type": "code",
      "execution_count": 11,
      "metadata": {
        "colab": {
          "base_uri": "https://localhost:8080/"
        },
        "id": "j2u7U3BObSVu",
        "outputId": "f4d3b4a6-bdbd-4545-a494-b210acdb821f"
      },
      "outputs": [
        {
          "data": {
            "text/plain": [
              "((14363, 231), (14363,))"
            ]
          },
          "execution_count": 11,
          "metadata": {},
          "output_type": "execute_result"
        }
      ],
      "source": [
        "X_test.shape,y_test.shape"
      ]
    },
    {
      "cell_type": "code",
      "execution_count": 12,
      "metadata": {
        "id": "d3pOpw1leExX"
      },
      "outputs": [],
      "source": [
        "def print_score(clf, X_train, y_train, X_test, y_test, train=True):\n",
        "    if train:\n",
        "        pred = clf.predict(X_train)\n",
        "        clf_report = pd.DataFrame(classification_report(y_train, pred, output_dict=True))\n",
        "        print(\"Train Result:\\n================================================\")\n",
        "        print(f\"Accuracy Score: {accuracy_score(y_train, pred) * 100:.2f}%\")\n",
        "        print(\"_______________________________________________\")\n",
        "        print(f\"CLASSIFICATION REPORT:\\n{clf_report}\")\n",
        "        print(\"_______________________________________________\")\n",
        "        print(f\"Confusion Matrix: \\n {confusion_matrix(y_train, pred)}\\n\")\n",
        "        \n",
        "    elif train==False:\n",
        "        pred = clf.predict(X_test)\n",
        "        clf_report = pd.DataFrame(classification_report(y_test, pred, output_dict=True))\n",
        "        print(\"Test Result:\\n================================================\")        \n",
        "        print(f\"Accuracy Score: {accuracy_score(y_test, pred) * 100:.2f}%\")\n",
        "        print(\"_______________________________________________\")\n",
        "        print(f\"CLASSIFICATION REPORT:\\n{clf_report}\")\n",
        "        print(\"_______________________________________________\")\n",
        "        print(f\"Confusion Matrix: \\n {confusion_matrix(y_test, pred)}\\n\")"
      ]
    },
    {
      "cell_type": "markdown",
      "metadata": {
        "id": "tpE4KNisfP5g"
      },
      "source": [
        "## XGBOOST MODEL"
      ]
    },
    {
      "cell_type": "code",
      "execution_count": 13,
      "metadata": {
        "colab": {
          "base_uri": "https://localhost:8080/"
        },
        "id": "2gZMDGCbecVu",
        "outputId": "ff901248-d3bc-4785-dce0-71eaba1d6c36"
      },
      "outputs": [
        {
          "name": "stdout",
          "output_type": "stream",
          "text": [
            "[21:33:20] WARNING: C:/Users/Administrator/workspace/xgboost-win64_release_1.5.1/src/learner.cc:1115: Starting in XGBoost 1.3.0, the default evaluation metric used with the objective 'binary:logistic' was changed from 'error' to 'logloss'. Explicitly set eval_metric if you'd like to restore the old behavior.\n",
            "Train Result:\n",
            "================================================\n",
            "Accuracy Score: 99.51%\n",
            "_______________________________________________\n",
            "CLASSIFICATION REPORT:\n",
            "                      0             1  accuracy     macro avg  weighted avg\n",
            "precision      0.998908      0.991365  0.995108      0.995137      0.995137\n",
            "recall         0.991299      0.998917  0.995108      0.995108      0.995108\n",
            "f1-score       0.995089      0.995127  0.995108      0.995108      0.995108\n",
            "support    29538.000000  29538.000000  0.995108  59076.000000  59076.000000\n",
            "_______________________________________________\n",
            "Confusion Matrix: \n",
            " [[29281   257]\n",
            " [   32 29506]]\n",
            "\n",
            "Test Result:\n",
            "================================================\n",
            "Accuracy Score: 92.40%\n",
            "_______________________________________________\n",
            "CLASSIFICATION REPORT:\n",
            "                      0            1  accuracy     macro avg  weighted avg\n",
            "precision      0.964389     0.658575  0.924041      0.811482      0.928363\n",
            "recall         0.948939     0.737589  0.924041      0.843264      0.924041\n",
            "f1-score       0.956601     0.695846  0.924041      0.826224      0.925884\n",
            "support    12671.000000  1692.000000  0.924041  14363.000000  14363.000000\n",
            "_______________________________________________\n",
            "Confusion Matrix: \n",
            " [[12024   647]\n",
            " [  444  1248]]\n",
            "\n"
          ]
        }
      ],
      "source": [
        "from xgboost import XGBClassifier\n",
        "\n",
        "xgb_clf = XGBClassifier()\n",
        "xgb_clf.fit(X_train_res, y_train_res)\n",
        "\n",
        "print_score(xgb_clf, X_train_res, y_train_res, X_test, y_test, train=True)\n",
        "print_score(xgb_clf, X_train_res, y_train_res, X_test, y_test, train=False)"
      ]
    },
    {
      "cell_type": "markdown",
      "metadata": {},
      "source": [
        "## confusion matrix for test"
      ]
    },
    {
      "cell_type": "code",
      "execution_count": 14,
      "metadata": {
        "colab": {
          "base_uri": "https://localhost:8080/",
          "height": 295
        },
        "id": "XhHQG1VdvHuL",
        "outputId": "ee570c6a-25d6-4c0d-e309-775ada953d12"
      },
      "outputs": [
        {
          "data": {
            "image/png": "[encoded data removed]",
            "text/plain": [
              "<Figure size 432x288 with 2 Axes>"
            ]
          },
          "metadata": {
            "needs_background": "light"
          },
          "output_type": "display_data"
        }
      ],
      "source": [
        "y_pred = xgb_clf.predict(X_test)\n",
        "cf_matrix = confusion_matrix(y_test, y_pred,labels=(1,0))\n",
        "\n",
        "group_names = ['TP','FN','FP','TN']\n",
        "\n",
        "group_counts = [\"{0:0.0f}\".format(value) for value in\n",
        "                cf_matrix.flatten()]\n",
        "tp, fn, fp, tn = confusion_matrix(y_test, y_pred, labels=(1,0)).ravel()                \n",
        "\n",
        "group_percentages = [\"{0:.2%}\".format(tp/(tp+fn)), \"{0:.2%}\".format(fn/(tp+fn)), \"{0:.2%}\".format(fp/(fp+tn)), \"{0:.2%}\".format(tn/(fp+tn))]\n",
        "\n",
        "\n",
        "labels = [f\"{v1}\\n{v2}\\n{v3}\" for v1, v2, v3 in\n",
        "          zip(group_names,group_counts,group_percentages)]\n",
        "\n",
        "labels = np.asarray(labels).reshape(2,2)\n",
        "\n",
        "ax = sns.heatmap(cf_matrix, annot=labels, fmt='', cmap='RdGy')\n",
        "\n",
        "ax.set_title('Confusion Matrix for Test Data');\n",
        "ax.set_xlabel('Predicted Values')\n",
        "ax.set_ylabel('True Values ');\n",
        "\n",
        "## Ticket labels - List must be in alphabetical order\n",
        "ax.xaxis.set_ticklabels(['True','False'])\n",
        "ax.yaxis.set_ticklabels(['Ture','False'])\n",
        "\n",
        "## Display the visualization of the Confusion Matrix.\n",
        "plt.show()"
      ]
    },
    {
      "cell_type": "markdown",
      "metadata": {},
      "source": [
        "## Roc for test "
      ]
    },
    {
      "cell_type": "code",
      "execution_count": 15,
      "metadata": {
        "colab": {
          "base_uri": "https://localhost:8080/"
        },
        "id": "8GAT1RejfdMe",
        "outputId": "f1cf9f2e-8d0e-4811-9cd6-7f69f5dcbecf"
      },
      "outputs": [
        {
          "data": {
            "text/plain": [
              "0.9443525106099389"
            ]
          },
          "execution_count": 15,
          "metadata": {},
          "output_type": "execute_result"
        }
      ],
      "source": [
        "from sklearn.metrics import roc_curve\n",
        "from sklearn.metrics import roc_auc_score\n",
        "#Get predicted probabilites from the model\n",
        "y_probabilities = xgb_clf.predict_proba(X_test)[:,1]\n",
        "#Create true and false positive rates\n",
        "false_positive_rate_xgb_clf,true_positive_rate_xgb_clf,threshold_xgb_clf = roc_curve(y_test,y_probabilities)\n",
        "#Calculate area under the curve\n",
        "roc_auc_score(y_test,y_probabilities)"
      ]
    },
    {
      "cell_type": "markdown",
      "metadata": {
        "id": "dbbAz5ELf8_w"
      },
      "source": [
        "## LGBM MODEL"
      ]
    },
    {
      "cell_type": "code",
      "execution_count": 16,
      "metadata": {
        "colab": {
          "base_uri": "https://localhost:8080/"
        },
        "id": "5iQRjcrHfkRg",
        "outputId": "683f71a6-8d50-4780-9e70-4f70869f7853"
      },
      "outputs": [
        {
          "name": "stdout",
          "output_type": "stream",
          "text": [
            "[LightGBM] [Warning] Unknown parameter: int\n",
            "Train Result:\n",
            "================================================\n",
            "Accuracy Score: 95.82%\n",
            "_______________________________________________\n",
            "CLASSIFICATION REPORT:\n",
            "                      0             1  accuracy     macro avg  weighted avg\n",
            "precision      0.966917      0.949847  0.958223      0.958382      0.958382\n",
            "recall         0.948913      0.967533  0.958223      0.958223      0.958223\n",
            "f1-score       0.957831      0.958609  0.958223      0.958220      0.958220\n",
            "support    29538.000000  29538.000000  0.958223  59076.000000  59076.000000\n",
            "_______________________________________________\n",
            "Confusion Matrix: \n",
            " [[28029  1509]\n",
            " [  959 28579]]\n",
            "\n",
            "Test Result:\n",
            "================================================\n",
            "Accuracy Score: 90.85%\n",
            "_______________________________________________\n",
            "CLASSIFICATION REPORT:\n",
            "                      0            1  accuracy     macro avg  weighted avg\n",
            "precision      0.967867     0.584906  0.908515      0.776386      0.922753\n",
            "recall         0.927078     0.769504  0.908515      0.848291      0.908515\n",
            "f1-score       0.947033     0.664625  0.908515      0.805829      0.913765\n",
            "support    12671.000000  1692.000000  0.908515  14363.000000  14363.000000\n",
            "_______________________________________________\n",
            "Confusion Matrix: \n",
            " [[11747   924]\n",
            " [  390  1302]]\n",
            "\n"
          ]
        }
      ],
      "source": [
        "from lightgbm import LGBMClassifier\n",
        "lgbmc_clf = LGBMClassifier(int = 10,) \n",
        "lgbmc_clf.fit(X_train_res, y_train_res)\n",
        "\n",
        "print_score(lgbmc_clf, X_train_res, y_train_res, X_test, y_test, train=True)\n",
        "print_score(lgbmc_clf, X_train_res, y_train_res, X_test, y_test, train=False)"
      ]
    },
    {
      "cell_type": "markdown",
      "metadata": {},
      "source": [
        "## CONFUSION MATRIX FOR TEST"
      ]
    },
    {
      "cell_type": "code",
      "execution_count": 17,
      "metadata": {
        "colab": {
          "base_uri": "https://localhost:8080/",
          "height": 295
        },
        "id": "WWVmeeDhvBV8",
        "outputId": "9575ea31-f119-407f-ddbb-e58ae140675a"
      },
      "outputs": [
        {
          "data": {
            "image/png": "[encoded data removed]",
            "text/plain": [
              "<Figure size 432x288 with 2 Axes>"
            ]
          },
          "metadata": {
            "needs_background": "light"
          },
          "output_type": "display_data"
        }
      ],
      "source": [
        "y_pred = lgbmc_clf.predict(X_test)\n",
        "cf_matrix = confusion_matrix(y_test, y_pred,labels=(1,0))\n",
        "\n",
        "group_names = ['TP','FN','FP','TN']\n",
        "\n",
        "group_counts = [\"{0:0.0f}\".format(value) for value in\n",
        "                cf_matrix.flatten()]\n",
        "tp, fn, fp, tn = confusion_matrix(y_test, y_pred, labels=(1,0)).ravel()                \n",
        "\n",
        "group_percentages = [\"{0:.2%}\".format(tp/(tp+fn)), \"{0:.2%}\".format(fn/(tp+fn)), \"{0:.2%}\".format(fp/(fp+tn)), \"{0:.2%}\".format(tn/(fp+tn))]\n",
        "\n",
        "\n",
        "labels = [f\"{v1}\\n{v2}\\n{v3}\" for v1, v2, v3 in\n",
        "          zip(group_names,group_counts,group_percentages)]\n",
        "\n",
        "labels = np.asarray(labels).reshape(2,2)\n",
        "\n",
        "ax = sns.heatmap(cf_matrix, annot=labels, fmt='', cmap='RdGy')\n",
        "\n",
        "ax.set_title('Confusion Matrix for Test Data');\n",
        "ax.set_xlabel('Predicted Values')\n",
        "ax.set_ylabel('True Values ');\n",
        "\n",
        "## Ticket labels - List must be in alphabetical order\n",
        "ax.xaxis.set_ticklabels(['True','False'])\n",
        "ax.yaxis.set_ticklabels(['Ture','False'])\n",
        "\n",
        "## Display the visualization of the Confusion Matrix.\n",
        "plt.show()"
      ]
    },
    {
      "cell_type": "markdown",
      "metadata": {},
      "source": [
        "## ROC FOR TEST"
      ]
    },
    {
      "cell_type": "code",
      "execution_count": 18,
      "metadata": {
        "colab": {
          "base_uri": "https://localhost:8080/"
        },
        "id": "Mi9q1TJqgHO0",
        "outputId": "ccf652f4-c8b2-4fa4-cd91-e095ddb64351"
      },
      "outputs": [
        {
          "data": {
            "text/plain": [
              "0.9383744792048558"
            ]
          },
          "execution_count": 18,
          "metadata": {},
          "output_type": "execute_result"
        }
      ],
      "source": [
        "from sklearn.metrics import roc_curve\n",
        "from sklearn.metrics import roc_auc_score\n",
        "#Get predicted probabilites from the model\n",
        "y_probabilities = lgbmc_clf.predict_proba(X_test)[:,1]\n",
        "#Create true and false positive rates\n",
        "false_positive_rate_lgbmc_clf,true_positive_rate_lgbmc_clf,threshold_lgbmc_clf = roc_curve(y_test,y_probabilities)\n",
        "#Calculate area under the curve\n",
        "roc_auc_score(y_test,y_probabilities)"
      ]
    },
    {
      "cell_type": "markdown",
      "metadata": {
        "id": "gv9bdP8ggNoH"
      },
      "source": [
        "## SUPPORT VECTOR METHOD"
      ]
    },
    {
      "cell_type": "code",
      "execution_count": 19,
      "metadata": {
        "colab": {
          "base_uri": "https://localhost:8080/"
        },
        "id": "MVvVSp24gcYJ",
        "outputId": "ab605b02-d67b-4475-95a3-34aacee8d2e1"
      },
      "outputs": [
        {
          "name": "stdout",
          "output_type": "stream",
          "text": [
            "Train Result:\n",
            "================================================\n",
            "Accuracy Score: 90.63%\n",
            "_______________________________________________\n",
            "CLASSIFICATION REPORT:\n",
            "                      0             1  accuracy     macro avg  weighted avg\n",
            "precision      0.927902      0.886726  0.906273      0.907314      0.907314\n",
            "recall         0.881001      0.931546  0.906273      0.906273      0.906273\n",
            "f1-score       0.903843      0.908584  0.906273      0.906213      0.906213\n",
            "support    29538.000000  29538.000000  0.906273  59076.000000  59076.000000\n",
            "_______________________________________________\n",
            "Confusion Matrix: \n",
            " [[26023  3515]\n",
            " [ 2022 27516]]\n",
            "\n",
            "Test Result:\n",
            "================================================\n",
            "Accuracy Score: 85.14%\n",
            "_______________________________________________\n",
            "CLASSIFICATION REPORT:\n",
            "                      0            1  accuracy     macro avg  weighted avg\n",
            "precision      0.968103     0.428893  0.851424      0.698498      0.904583\n",
            "recall         0.859916     0.787825  0.851424      0.823871      0.851424\n",
            "f1-score       0.910808     0.555417  0.851424      0.733112      0.868942\n",
            "support    12671.000000  1692.000000  0.851424  14363.000000  14363.000000\n",
            "_______________________________________________\n",
            "Confusion Matrix: \n",
            " [[10896  1775]\n",
            " [  359  1333]]\n",
            "\n"
          ]
        }
      ],
      "source": [
        "from sklearn.svm import SVC\n",
        "\n",
        "svm_clf = SVC(probability=True, C=5,)\n",
        "svm_clf.fit(X_train_res, y_train_res)\n",
        "\n",
        "print_score(svm_clf, X_train_res, y_train_res, X_test, y_test, train=True)\n",
        "print_score(svm_clf, X_train_res, y_train_res, X_test, y_test, train=False)"
      ]
    },
    {
      "cell_type": "markdown",
      "metadata": {},
      "source": [
        "## CONFUSION MATRIX FOR TEST"
      ]
    },
    {
      "cell_type": "code",
      "execution_count": 20,
      "metadata": {
        "colab": {
          "base_uri": "https://localhost:8080/",
          "height": 295
        },
        "id": "KLk3QNw__xF-",
        "outputId": "78e9d6d4-f14a-4d3b-facc-11339f1ede52"
      },
      "outputs": [
        {
          "data": {
            "image/png": "[encoded data removed]",
            "text/plain": [
              "<Figure size 432x288 with 2 Axes>"
            ]
          },
          "metadata": {
            "needs_background": "light"
          },
          "output_type": "display_data"
        }
      ],
      "source": [
        "y_pred = svm_clf.predict(X_test)\n",
        "cf_matrix = confusion_matrix(y_test, y_pred,labels=(1,0))\n",
        "\n",
        "group_names = ['TP','FN','FP','TN']\n",
        "\n",
        "group_counts = [\"{0:0.0f}\".format(value) for value in\n",
        "                cf_matrix.flatten()]\n",
        "tp, fn, fp, tn = confusion_matrix(y_test, y_pred, labels=(1,0)).ravel()                \n",
        "\n",
        "group_percentages = [\"{0:.2%}\".format(tp/(tp+fn)), \"{0:.2%}\".format(fn/(tp+fn)), \"{0:.2%}\".format(fp/(fp+tn)), \"{0:.2%}\".format(tn/(fp+tn))]\n",
        "\n",
        "\n",
        "labels = [f\"{v1}\\n{v2}\\n{v3}\" for v1, v2, v3 in\n",
        "          zip(group_names,group_counts,group_percentages)]\n",
        "\n",
        "labels = np.asarray(labels).reshape(2,2)\n",
        "\n",
        "ax = sns.heatmap(cf_matrix, annot=labels, fmt='', cmap='RdGy')\n",
        "\n",
        "ax.set_title('Confusion Matrix for Test Data');\n",
        "ax.set_xlabel('Predicted Values')\n",
        "ax.set_ylabel('True Values ');\n",
        "\n",
        "## Ticket labels - List must be in alphabetical order\n",
        "ax.xaxis.set_ticklabels(['True','False'])\n",
        "ax.yaxis.set_ticklabels(['Ture','False'])\n",
        "\n",
        "## Display the visualization of the Confusion Matrix.\n",
        "plt.show()"
      ]
    },
    {
      "cell_type": "markdown",
      "metadata": {},
      "source": [
        "## ROC FOR TEST"
      ]
    },
    {
      "cell_type": "code",
      "execution_count": 21,
      "metadata": {
        "colab": {
          "base_uri": "https://localhost:8080/"
        },
        "id": "d7tvGXvNqrpj",
        "outputId": "6368a126-bf01-4cb2-c8e9-a2040bbb1d61"
      },
      "outputs": [
        {
          "data": {
            "text/plain": [
              "0.8959660217025418"
            ]
          },
          "execution_count": 21,
          "metadata": {},
          "output_type": "execute_result"
        }
      ],
      "source": [
        "from sklearn.metrics import roc_curve\n",
        "from sklearn.metrics import roc_auc_score\n",
        "#Get predicted probabilites from the model\n",
        "y_probabilities = svm_clf.predict_proba(X_test)[:,1]\n",
        "#Create true and false positive rates\n",
        "false_positive_rate_svm_clf,true_positive_rate_svm_clf,threshold_svm_clf = roc_curve(y_test,y_probabilities)\n",
        "#Calculate area under the curve\n",
        "roc_auc_score(y_test,y_probabilities)"
      ]
    },
    {
      "cell_type": "markdown",
      "metadata": {
        "id": "vC2lGv_uq347"
      },
      "source": [
        "## KNN"
      ]
    },
    {
      "cell_type": "code",
      "execution_count": 22,
      "metadata": {
        "colab": {
          "base_uri": "https://localhost:8080/"
        },
        "id": "LqAhhQJOq16Q",
        "outputId": "a7fd1348-40ec-46b6-fb62-1b4e4d521661"
      },
      "outputs": [
        {
          "name": "stdout",
          "output_type": "stream",
          "text": [
            "Train Result:\n",
            "================================================\n",
            "Accuracy Score: 83.17%\n",
            "_______________________________________________\n",
            "CLASSIFICATION REPORT:\n",
            "                      0             1  accuracy     macro avg  weighted avg\n",
            "precision      0.964533      0.757911  0.831674      0.861222      0.861222\n",
            "recall         0.688672      0.974677  0.831674      0.831674      0.831674\n",
            "f1-score       0.803587      0.852734  0.831674      0.828160      0.828160\n",
            "support    29538.000000  29538.000000  0.831674  59076.000000  59076.000000\n",
            "_______________________________________________\n",
            "Confusion Matrix: \n",
            " [[20342  9196]\n",
            " [  748 28790]]\n",
            "\n",
            "Test Result:\n",
            "================================================\n",
            "Accuracy Score: 69.28%\n",
            "_______________________________________________\n",
            "CLASSIFICATION REPORT:\n",
            "                      0            1  accuracy     macro avg  weighted avg\n",
            "precision      0.976353     0.261152  0.692822      0.618752      0.892100\n",
            "recall         0.667982     0.878842  0.692822      0.773412      0.692822\n",
            "f1-score       0.793252     0.402654  0.692822      0.597953      0.747239\n",
            "support    12671.000000  1692.000000  0.692822  14363.000000  14363.000000\n",
            "_______________________________________________\n",
            "Confusion Matrix: \n",
            " [[8464 4207]\n",
            " [ 205 1487]]\n",
            "\n"
          ]
        }
      ],
      "source": [
        "from sklearn.neighbors import KNeighborsClassifier\n",
        "\n",
        "knn_clf = KNeighborsClassifier(n_neighbors=40, leaf_size=30)\n",
        "knn_clf.fit(X_train_res, y_train_res)\n",
        "\n",
        "print_score(knn_clf, X_train_res, y_train_res, X_test, y_test, train=True)\n",
        "print_score(knn_clf, X_train_res, y_train_res, X_test, y_test, train=False)"
      ]
    },
    {
      "cell_type": "markdown",
      "metadata": {},
      "source": [
        "## confusion matrix for test"
      ]
    },
    {
      "cell_type": "code",
      "execution_count": 23,
      "metadata": {
        "colab": {
          "base_uri": "https://localhost:8080/",
          "height": 295
        },
        "id": "g6FPTAWw_4lL",
        "outputId": "fb89cf00-1495-4c54-8b14-35673efe189b"
      },
      "outputs": [
        {
          "data": {
            "image/png": "[encoded data removed]",
            "text/plain": [
              "<Figure size 432x288 with 2 Axes>"
            ]
          },
          "metadata": {
            "needs_background": "light"
          },
          "output_type": "display_data"
        }
      ],
      "source": [
        "y_pred = knn_clf.predict(X_test)\n",
        "cf_matrix = confusion_matrix(y_test, y_pred,labels=(1,0))\n",
        "\n",
        "group_names = ['TP','FN','FP','TN']\n",
        "\n",
        "group_counts = [\"{0:0.0f}\".format(value) for value in\n",
        "                cf_matrix.flatten()]\n",
        "tp, fn, fp, tn = confusion_matrix(y_test, y_pred, labels=(1,0)).ravel()                \n",
        "\n",
        "group_percentages = [\"{0:.2%}\".format(tp/(tp+fn)), \"{0:.2%}\".format(fn/(tp+fn)), \"{0:.2%}\".format(fp/(fp+tn)), \"{0:.2%}\".format(tn/(fp+tn))]\n",
        "\n",
        "\n",
        "labels = [f\"{v1}\\n{v2}\\n{v3}\" for v1, v2, v3 in\n",
        "          zip(group_names,group_counts,group_percentages)]\n",
        "\n",
        "labels = np.asarray(labels).reshape(2,2)\n",
        "\n",
        "ax = sns.heatmap(cf_matrix, annot=labels, fmt='', cmap='RdGy')\n",
        "\n",
        "ax.set_title('Confusion Matrix for Test Data');\n",
        "ax.set_xlabel('Predicted Values')\n",
        "ax.set_ylabel('True Values ');\n",
        "\n",
        "## Ticket labels - List must be in alphabetical order\n",
        "ax.xaxis.set_ticklabels(['True','False'])\n",
        "ax.yaxis.set_ticklabels(['Ture','False'])\n",
        "\n",
        "## Display the visualization of the Confusion Matrix.\n",
        "plt.show()"
      ]
    },
    {
      "cell_type": "markdown",
      "metadata": {},
      "source": [
        "## ROC FOR TEST"
      ]
    },
    {
      "cell_type": "code",
      "execution_count": 24,
      "metadata": {
        "colab": {
          "base_uri": "https://localhost:8080/"
        },
        "id": "X6G92QLqr7Ch",
        "outputId": "21028d85-01df-4c97-8575-10f64820f8f9"
      },
      "outputs": [
        {
          "data": {
            "text/plain": [
              "0.8891205892049249"
            ]
          },
          "execution_count": 24,
          "metadata": {},
          "output_type": "execute_result"
        }
      ],
      "source": [
        "from sklearn.metrics import roc_curve\n",
        "from sklearn.metrics import roc_auc_score\n",
        "#Get predicted probabilites from the model\n",
        "y_probabilities = knn_clf.predict_proba(X_test)[:,1]\n",
        "#Create true and false positive rates\n",
        "false_positive_rate_knn_clf,true_positive_rate_knn_clf,threshold_knn_clf = roc_curve(y_test,y_probabilities)\n",
        "#Calculate area under the curve\n",
        "roc_auc_score(y_test,y_probabilities)"
      ]
    },
    {
      "cell_type": "code",
      "execution_count": 25,
      "metadata": {
        "colab": {
          "base_uri": "https://localhost:8080/",
          "height": 404
        },
        "id": "9XbPE2CIsYTs",
        "outputId": "85bc78e0-a1a1-4c95-e112-498996fa9406"
      },
      "outputs": [
        {
          "data": {
            "image/png": "[encoded data removed]",
            "text/plain": [
              "<Figure size 720x432 with 1 Axes>"
            ]
          },
          "metadata": {},
          "output_type": "display_data"
        }
      ],
      "source": [
        "from sklearn.neighbors import KNeighborsClassifier\n",
        "no_neighbors = np.arange(1, 9)\n",
        "train_accuracy = np.empty(len(no_neighbors))\n",
        "test_accuracy = np.empty(len(no_neighbors))\n",
        "\n",
        "for i, k in enumerate(no_neighbors):\n",
        "    # We instantiate the classifier\n",
        "    knn_clf = KNeighborsClassifier(n_neighbors=k)\n",
        "    # Fit the classifier to the training data\n",
        "    knn_clf.fit(X_train_res, y_train_res)\n",
        "    \n",
        "    # Compute accuracy on the training set\n",
        "    train_accuracy[i] = knn_clf.score(X_train_res, y_train_res)\n",
        "\n",
        "    # Compute accuracy on the testing set\n",
        "    test_accuracy[i] = knn_clf.score(X_test, y_test)\n",
        "\n",
        "# Visualization of k values vs accuracy\n",
        "sns.set_style('whitegrid')\n",
        "plt.figure(figsize=(10,6))\n",
        "\n",
        "plt.title('k-NN: Varying Number of Neighbors')\n",
        "plt.plot(no_neighbors, test_accuracy, label = 'Testing Accuracy')\n",
        "plt.plot(no_neighbors, train_accuracy, label = 'Training Accuracy')\n",
        "plt.legend()\n",
        "plt.xlabel('Number of Neighbors')\n",
        "plt.ylabel('Accuracy')\n",
        "plt.show()"
      ]
    },
    {
      "cell_type": "markdown",
      "metadata": {
        "id": "g0fzH-klvw-R"
      },
      "source": [
        "GRADIENT BOOSTING CLASSIFER"
      ]
    },
    {
      "cell_type": "code",
      "execution_count": 26,
      "metadata": {
        "colab": {
          "base_uri": "https://localhost:8080/"
        },
        "id": "cYndDAJUvxiX",
        "outputId": "fcc694f0-2aaa-4156-b7ab-d99d71ef2794"
      },
      "outputs": [
        {
          "name": "stdout",
          "output_type": "stream",
          "text": [
            "Train Result:\n",
            "================================================\n",
            "Accuracy Score: 89.02%\n",
            "_______________________________________________\n",
            "CLASSIFICATION REPORT:\n",
            "                      0             1  accuracy     macro avg  weighted avg\n",
            "precision      0.899709      0.881151  0.890209      0.890430      0.890430\n",
            "recall         0.878326      0.902092  0.890209      0.890209      0.890209\n",
            "f1-score       0.888889      0.891499  0.890209      0.890194      0.890194\n",
            "support    29538.000000  29538.000000  0.890209  59076.000000  59076.000000\n",
            "_______________________________________________\n",
            "Confusion Matrix: \n",
            " [[25944  3594]\n",
            " [ 2892 26646]]\n",
            "\n",
            "Test Result:\n",
            "================================================\n",
            "Accuracy Score: 85.47%\n",
            "_______________________________________________\n",
            "CLASSIFICATION REPORT:\n",
            "                      0            1  accuracy     macro avg  weighted avg\n",
            "precision      0.968236     0.435479  0.854696      0.701857      0.905475\n",
            "recall         0.863626     0.787825  0.854696      0.825725      0.854696\n",
            "f1-score       0.912944     0.560909  0.854696      0.736926      0.871473\n",
            "support    12671.000000  1692.000000  0.854696  14363.000000  14363.000000\n",
            "_______________________________________________\n",
            "Confusion Matrix: \n",
            " [[10943  1728]\n",
            " [  359  1333]]\n",
            "\n"
          ]
        }
      ],
      "source": [
        "from sklearn.ensemble import GradientBoostingClassifier\n",
        "gb_clf = GradientBoostingClassifier( min_samples_split=30, min_samples_leaf=10,)\n",
        "gb_clf.fit(X_train_res, y_train_res)\n",
        "\n",
        "print_score(gb_clf, X_train_res, y_train_res, X_test, y_test, train=True)\n",
        "print_score(gb_clf, X_train_res, y_train_res, X_test, y_test, train=False)"
      ]
    },
    {
      "cell_type": "code",
      "execution_count": 27,
      "metadata": {
        "colab": {
          "base_uri": "https://localhost:8080/",
          "height": 295
        },
        "id": "KJa0xehz_60Z",
        "outputId": "dced248b-d45b-4344-9ea1-610b3b1a720b"
      },
      "outputs": [
        {
          "data": {
            "image/png": "[encoded data removed]",
            "text/plain": [
              "<Figure size 432x288 with 2 Axes>"
            ]
          },
          "metadata": {},
          "output_type": "display_data"
        }
      ],
      "source": [
        "y_pred = gb_clf.predict(X_test)\n",
        "cf_matrix = confusion_matrix(y_test, y_pred,labels=(1,0))\n",
        "\n",
        "group_names = ['TP','FN','FP','TN']\n",
        "\n",
        "group_counts = [\"{0:0.0f}\".format(value) for value in\n",
        "                cf_matrix.flatten()]\n",
        "tp, fn, fp, tn = confusion_matrix(y_test, y_pred, labels=(1,0)).ravel()                \n",
        "\n",
        "group_percentages = [\"{0:.2%}\".format(tp/(tp+fn)), \"{0:.2%}\".format(fn/(tp+fn)), \"{0:.2%}\".format(fp/(fp+tn)), \"{0:.2%}\".format(tn/(fp+tn))]\n",
        "\n",
        "\n",
        "labels = [f\"{v1}\\n{v2}\\n{v3}\" for v1, v2, v3 in\n",
        "          zip(group_names,group_counts,group_percentages)]\n",
        "\n",
        "labels = np.asarray(labels).reshape(2,2)\n",
        "\n",
        "ax = sns.heatmap(cf_matrix, annot=labels, fmt='', cmap='RdGy')\n",
        "\n",
        "ax.set_title('Confusion Matrix for Test Data');\n",
        "ax.set_xlabel('Predicted Values')\n",
        "ax.set_ylabel('True Values ');\n",
        "\n",
        "## Ticket labels - List must be in alphabetical order\n",
        "ax.xaxis.set_ticklabels(['True','False'])\n",
        "ax.yaxis.set_ticklabels(['Ture','False'])\n",
        "\n",
        "## Display the visualization of the Confusion Matrix.\n",
        "plt.show()"
      ]
    },
    {
      "cell_type": "code",
      "execution_count": 28,
      "metadata": {
        "colab": {
          "base_uri": "https://localhost:8080/"
        },
        "id": "Xq8mZpbTxPcQ",
        "outputId": "abc2a0ad-020f-4bd1-a07b-1c4272922995"
      },
      "outputs": [
        {
          "data": {
            "text/plain": [
              "0.903518775678272"
            ]
          },
          "execution_count": 28,
          "metadata": {},
          "output_type": "execute_result"
        }
      ],
      "source": [
        "from sklearn.metrics import roc_curve\n",
        "from sklearn.metrics import roc_auc_score\n",
        "#Get predicted probabilites from the model\n",
        "y_probabilities = gb_clf.predict_proba(X_test)[:,1]\n",
        "#Create true and false positive rates\n",
        "false_positive_rate_gb_clf,true_positive_rate_gb_clf,threshold_gb_clf = roc_curve(y_test,y_probabilities)\n",
        "#Calculate area under the curve\n",
        "roc_auc_score(y_test,y_probabilities)"
      ]
    },
    {
      "cell_type": "markdown",
      "metadata": {},
      "source": [
        "##  Decision Tree Classifier "
      ]
    },
    {
      "cell_type": "code",
      "execution_count": 29,
      "metadata": {},
      "outputs": [
        {
          "name": "stdout",
          "output_type": "stream",
          "text": [
            "Train Result:\n",
            "================================================\n",
            "Accuracy Score: 85.62%\n",
            "_______________________________________________\n",
            "CLASSIFICATION REPORT:\n",
            "                      0             1  accuracy     macro avg  weighted avg\n",
            "precision      0.857366      0.854979  0.856168      0.856172      0.856172\n",
            "recall         0.854493      0.857844  0.856168      0.856168      0.856168\n",
            "f1-score       0.855927      0.856409  0.856168      0.856168      0.856168\n",
            "support    29538.000000  29538.000000  0.856168  59076.000000  59076.000000\n",
            "_______________________________________________\n",
            "Confusion Matrix: \n",
            " [[25240  4298]\n",
            " [ 4199 25339]]\n",
            "\n",
            "Test Result:\n",
            "================================================\n",
            "Accuracy Score: 81.19%\n",
            "_______________________________________________\n",
            "CLASSIFICATION REPORT:\n",
            "                      0            1  accuracy     macro avg  weighted avg\n",
            "precision      0.955247     0.352080  0.811878      0.653663      0.884192\n",
            "recall         0.825428     0.710402  0.811878      0.767915      0.811878\n",
            "f1-score       0.885605     0.470819  0.811878      0.678212      0.836742\n",
            "support    12671.000000  1692.000000  0.811878  14363.000000  14363.000000\n",
            "_______________________________________________\n",
            "Confusion Matrix: \n",
            " [[10459  2212]\n",
            " [  490  1202]]\n",
            "\n"
          ]
        }
      ],
      "source": [
        "from sklearn.tree import DecisionTreeClassifier\n",
        "tree_clf = DecisionTreeClassifier(min_samples_split=10, min_samples_leaf=100,)\n",
        "tree_clf.fit(X_train_res, y_train_res)\n",
        "\n",
        "print_score(tree_clf, X_train_res, y_train_res, X_test, y_test, train=True)\n",
        "print_score(tree_clf, X_train_res, y_train_res, X_test, y_test, train=False)"
      ]
    },
    {
      "cell_type": "markdown",
      "metadata": {},
      "source": [
        "## CONFUSION MATRIX FOR TEST "
      ]
    },
    {
      "cell_type": "code",
      "execution_count": 30,
      "metadata": {},
      "outputs": [
        {
          "data": {
            "image/png": "[encoded data removed]",
            "text/plain": [
              "<Figure size 432x288 with 2 Axes>"
            ]
          },
          "metadata": {},
          "output_type": "display_data"
        }
      ],
      "source": [
        "y_pred = tree_clf.predict(X_test)\n",
        "cf_matrix = confusion_matrix(y_test, y_pred,labels=(1,0))\n",
        "group_names = ['TP','FN','FP','TN']\n",
        "\n",
        "group_counts = [\"{0:0.0f}\".format(value) for value in\n",
        "                cf_matrix.flatten()]\n",
        "tp, fn, fp, tn = confusion_matrix(y_test, y_pred, labels=(1,0)).ravel()                \n",
        "\n",
        "group_percentages = [\"{0:.2%}\".format(tp/(tp+fn)), \"{0:.2%}\".format(fn/(tp+fn)), \"{0:.2%}\".format(fp/(fp+tn)), \"{0:.2%}\".format(tn/(fp+tn))]\n",
        "\n",
        "\n",
        "labels = [f\"{v1}\\n{v2}\\n{v3}\" for v1, v2, v3 in\n",
        "          zip(group_names,group_counts,group_percentages)]\n",
        "\n",
        "labels = np.asarray(labels).reshape(2,2)\n",
        "\n",
        "ax = sns.heatmap(cf_matrix, annot=labels, fmt='', cmap='RdGy')\n",
        "\n",
        "ax.set_title('Confusion Matrix for Test Data');\n",
        "ax.set_xlabel('Predicted Values')\n",
        "ax.set_ylabel('True Values ');\n",
        "\n",
        "## Ticket labels - List must be in alphabetical order\n",
        "ax.xaxis.set_ticklabels(['True','False'])\n",
        "ax.yaxis.set_ticklabels(['Ture','False'])\n",
        "\n",
        "## Display the visualization of the Confusion Matrix.\n",
        "plt.show()"
      ]
    },
    {
      "cell_type": "markdown",
      "metadata": {},
      "source": [
        "## ROC FOR TEST"
      ]
    },
    {
      "cell_type": "code",
      "execution_count": 31,
      "metadata": {},
      "outputs": [
        {
          "data": {
            "text/plain": [
              "0.8555500469884042"
            ]
          },
          "execution_count": 31,
          "metadata": {},
          "output_type": "execute_result"
        }
      ],
      "source": [
        "from sklearn.metrics import roc_curve\n",
        "from sklearn.metrics import roc_auc_score\n",
        "#Get predicted probabilites from the model\n",
        "y_probabilities = tree_clf.predict_proba(X_test)[:,1]\n",
        "#Create true and false positive rates\n",
        "false_positive_rate_tree_clf,true_positive_rate_tree_clf,threshold_tree_clf = roc_curve(y_test,y_probabilities)\n",
        "#Calculate area under the curve\n",
        "roc_auc_score(y_test,y_probabilities)"
      ]
    },
    {
      "cell_type": "markdown",
      "metadata": {},
      "source": [
        "## ROC CURVE"
      ]
    },
    {
      "cell_type": "code",
      "execution_count": 32,
      "metadata": {},
      "outputs": [
        {
          "data": {
            "image/png": "[encoded data removed]",
            "text/plain": [
              "<Figure size 720x432 with 1 Axes>"
            ]
          },
          "metadata": {},
          "output_type": "display_data"
        }
      ],
      "source": [
        "from sklearn.metrics import roc_curve\n",
        "plt.figure(figsize=(10,6))\n",
        "plt.title('Revceiver Operating Characterstic')\n",
        "plt.plot(false_positive_rate_tree_clf,true_positive_rate_tree_clf)\n",
        "plt.plot([0,1],ls='--')\n",
        "plt.xlabel('False Positive Rate')\n",
        "plt.ylabel('True Positive Rate')\n",
        "plt.show()"
      ]
    },
    {
      "cell_type": "markdown",
      "metadata": {},
      "source": [
        "##  Random Forest CLASSIFIER"
      ]
    },
    {
      "cell_type": "code",
      "execution_count": 33,
      "metadata": {},
      "outputs": [
        {
          "name": "stdout",
          "output_type": "stream",
          "text": [
            "Train Result:\n",
            "================================================\n",
            "Accuracy Score: 90.65%\n",
            "_______________________________________________\n",
            "CLASSIFICATION REPORT:\n",
            "                      0             1  accuracy     macro avg  weighted avg\n",
            "precision      0.900691      0.912501   0.90651      0.906596      0.906596\n",
            "recall         0.913772      0.899248   0.90651      0.906510      0.906510\n",
            "f1-score       0.907184      0.905826   0.90651      0.906505      0.906505\n",
            "support    29538.000000  29538.000000   0.90651  59076.000000  59076.000000\n",
            "_______________________________________________\n",
            "Confusion Matrix: \n",
            " [[26991  2547]\n",
            " [ 2976 26562]]\n",
            "\n",
            "Test Result:\n",
            "================================================\n",
            "Accuracy Score: 87.55%\n",
            "_______________________________________________\n",
            "CLASSIFICATION REPORT:\n",
            "                      0            1  accuracy     macro avg  weighted avg\n",
            "precision      0.965444     0.482036  0.875513      0.723740      0.908497\n",
            "recall         0.890774     0.761229  0.875513      0.826002      0.875513\n",
            "f1-score       0.926607     0.590284  0.875513      0.758446      0.886987\n",
            "support    12671.000000  1692.000000  0.875513  14363.000000  14363.000000\n",
            "_______________________________________________\n",
            "Confusion Matrix: \n",
            " [[11287  1384]\n",
            " [  404  1288]]\n",
            "\n"
          ]
        }
      ],
      "source": [
        "from sklearn.ensemble import RandomForestClassifier\n",
        "rf_clf = RandomForestClassifier(min_samples_split=10, min_samples_leaf=100,)\n",
        "rf_clf.fit(X_train_res, y_train_res)\n",
        "\n",
        "print_score(rf_clf,X_train_res, y_train_res, X_test, y_test, train=True)\n",
        "print_score(rf_clf, X_train_res, y_train_res, X_test, y_test, train=False)"
      ]
    },
    {
      "cell_type": "markdown",
      "metadata": {},
      "source": [
        "## CONFUSION MATRIX FOR TEST"
      ]
    },
    {
      "cell_type": "code",
      "execution_count": 34,
      "metadata": {},
      "outputs": [
        {
          "data": {
            "image/png": "[encoded data removed]",
            "text/plain": [
              "<Figure size 432x288 with 2 Axes>"
            ]
          },
          "metadata": {},
          "output_type": "display_data"
        }
      ],
      "source": [
        "y_pred = rf_clf.predict(X_test)\n",
        "cf_matrix = confusion_matrix(y_test, y_pred,labels=(1,0))\n",
        "group_names = ['TP','FN','FP','TN']\n",
        "\n",
        "group_counts = [\"{0:0.0f}\".format(value) for value in\n",
        "                cf_matrix.flatten()]\n",
        "tp, fn, fp, tn = confusion_matrix(y_test, y_pred, labels=(1,0)).ravel()                \n",
        "\n",
        "group_percentages = [\"{0:.2%}\".format(tp/(tp+fn)), \"{0:.2%}\".format(fn/(tp+fn)), \"{0:.2%}\".format(fp/(fp+tn)), \"{0:.2%}\".format(tn/(fp+tn))]\n",
        "\n",
        "\n",
        "labels = [f\"{v1}\\n{v2}\\n{v3}\" for v1, v2, v3 in\n",
        "          zip(group_names,group_counts,group_percentages)]\n",
        "\n",
        "labels = np.asarray(labels).reshape(2,2)\n",
        "\n",
        "ax = sns.heatmap(cf_matrix, annot=labels, fmt='', cmap='RdGy')\n",
        "\n",
        "ax.set_title('Confusion Matrix for Test Data');\n",
        "ax.set_xlabel('Predicted Values')\n",
        "ax.set_ylabel('True Values ');\n",
        "\n",
        "## Ticket labels - List must be in alphabetical order\n",
        "ax.xaxis.set_ticklabels(['True','False'])\n",
        "ax.yaxis.set_ticklabels(['Ture','False'])\n",
        "\n",
        "## Display the visualization of the Confusion Matrix.\n",
        "plt.show()"
      ]
    },
    {
      "cell_type": "markdown",
      "metadata": {},
      "source": [
        "## ROC FOR TEST"
      ]
    },
    {
      "cell_type": "code",
      "execution_count": 35,
      "metadata": {},
      "outputs": [
        {
          "data": {
            "text/plain": [
              "0.9120536498058801"
            ]
          },
          "execution_count": 35,
          "metadata": {},
          "output_type": "execute_result"
        }
      ],
      "source": [
        "from sklearn.metrics import roc_curve\n",
        "from sklearn.metrics import roc_auc_score\n",
        "#Get predicted probabilites from the model\n",
        "y_probabilities = rf_clf.predict_proba(X_test)[:,1]\n",
        "#Create true and false positive rates\n",
        "false_positive_rate_rf_clf,true_positive_rate_rf_clf,threshold_rf_clf = roc_curve(y_test,y_probabilities)\n",
        "#Calculate area under the curve\n",
        "roc_auc_score(y_test,y_probabilities)"
      ]
    },
    {
      "cell_type": "markdown",
      "metadata": {},
      "source": [
        "## ROC CURVE"
      ]
    },
    {
      "cell_type": "code",
      "execution_count": 36,
      "metadata": {},
      "outputs": [
        {
          "data": {
            "image/png": "[encoded data removed]",
            "text/plain": [
              "<Figure size 720x432 with 1 Axes>"
            ]
          },
          "metadata": {},
          "output_type": "display_data"
        }
      ],
      "source": [
        "from sklearn.metrics import roc_curve\n",
        "plt.figure(figsize=(10,6))\n",
        "plt.title('Revceiver Operating Characterstic')\n",
        "plt.plot(false_positive_rate_rf_clf,true_positive_rate_rf_clf)\n",
        "plt.plot([0,1],ls='--')\n",
        "plt.xlabel('False Positive Rate')\n",
        "plt.ylabel('True Positive Rate')\n",
        "plt.show()"
      ]
    },
    {
      "cell_type": "markdown",
      "metadata": {},
      "source": [
        "##  Logistic Regression"
      ]
    },
    {
      "cell_type": "code",
      "execution_count": 37,
      "metadata": {},
      "outputs": [
        {
          "name": "stdout",
          "output_type": "stream",
          "text": [
            "Train Result:\n",
            "================================================\n",
            "Accuracy Score: 80.53%\n",
            "_______________________________________________\n",
            "CLASSIFICATION REPORT:\n",
            "                      0             1  accuracy     macro avg  weighted avg\n",
            "precision      0.818870      0.792779  0.805268      0.805824      0.805824\n",
            "recall         0.783939      0.826596  0.805268      0.805268      0.805268\n",
            "f1-score       0.801024      0.809334  0.805268      0.805179      0.805179\n",
            "support    29538.000000  29538.000000  0.805268  59076.000000  59076.000000\n",
            "_______________________________________________\n",
            "Confusion Matrix: \n",
            " [[23156  6382]\n",
            " [ 5122 24416]]\n",
            "\n",
            "Test Result:\n",
            "================================================\n",
            "Accuracy Score: 77.23%\n",
            "_______________________________________________\n",
            "CLASSIFICATION REPORT:\n",
            "                      0            1  accuracy     macro avg  weighted avg\n",
            "precision      0.958451     0.308029  0.772332      0.633240      0.881830\n",
            "recall         0.775550     0.748227  0.772332      0.761889      0.772332\n",
            "f1-score       0.857355     0.436401  0.772332      0.646878      0.807765\n",
            "support    12671.000000  1692.000000  0.772332  14363.000000  14363.000000\n",
            "_______________________________________________\n",
            "Confusion Matrix: \n",
            " [[9827 2844]\n",
            " [ 426 1266]]\n",
            "\n"
          ]
        }
      ],
      "source": [
        "from sklearn.linear_model import LogisticRegression\n",
        "\n",
        "lr_clf = LogisticRegression(n_jobs=20,)\n",
        "lr_clf.fit(X_train_res, y_train_res)\n",
        "\n",
        "print_score(lr_clf, X_train_res, y_train_res, X_test, y_test, train=True)\n",
        "print_score(lr_clf, X_train_res, y_train_res, X_test, y_test, train=False)"
      ]
    },
    {
      "cell_type": "markdown",
      "metadata": {},
      "source": [
        "## CONFUSION MATRIX FOR TEST"
      ]
    },
    {
      "cell_type": "code",
      "execution_count": 38,
      "metadata": {},
      "outputs": [
        {
          "data": {
            "image/png": "[encoded data removed]",
            "text/plain": [
              "<Figure size 432x288 with 2 Axes>"
            ]
          },
          "metadata": {},
          "output_type": "display_data"
        }
      ],
      "source": [
        "y_pred = lr_clf.predict(X_test)\n",
        "cf_matrix = confusion_matrix(y_test, y_pred,labels=(1,0))\n",
        "\n",
        "group_names = ['TP','FN','FP','TN']\n",
        "\n",
        "group_counts = [\"{0:0.0f}\".format(value) for value in\n",
        "                cf_matrix.flatten()]\n",
        "tp, fn, fp, tn = confusion_matrix(y_test, y_pred, labels=(1,0)).ravel()                \n",
        "\n",
        "group_percentages = [\"{0:.2%}\".format(tp/(tp+fn)), \"{0:.2%}\".format(fn/(tp+fn)), \"{0:.2%}\".format(fp/(fp+tn)), \"{0:.2%}\".format(tn/(fp+tn))]\n",
        "\n",
        "\n",
        "labels = [f\"{v1}\\n{v2}\\n{v3}\" for v1, v2, v3 in\n",
        "          zip(group_names,group_counts,group_percentages)]\n",
        "\n",
        "labels = np.asarray(labels).reshape(2,2)\n",
        "\n",
        "ax = sns.heatmap(cf_matrix, annot=labels, fmt='', cmap='RdGy')\n",
        "\n",
        "ax.set_title('Confusion Matrix for Test Data');\n",
        "ax.set_xlabel('Predicted Values')\n",
        "ax.set_ylabel('True Values ');\n",
        "\n",
        "## Ticket labels - List must be in alphabetical order\n",
        "ax.xaxis.set_ticklabels(['True','False'])\n",
        "ax.yaxis.set_ticklabels(['Ture','False'])\n",
        "\n",
        "## Display the visualization of the Confusion Matrix.\n",
        "plt.show()"
      ]
    },
    {
      "cell_type": "markdown",
      "metadata": {},
      "source": [
        "## ROC VALUE FOR TEST"
      ]
    },
    {
      "cell_type": "code",
      "execution_count": 39,
      "metadata": {},
      "outputs": [
        {
          "data": {
            "text/plain": [
              "0.840523249511692"
            ]
          },
          "execution_count": 39,
          "metadata": {},
          "output_type": "execute_result"
        }
      ],
      "source": [
        "from sklearn.metrics import roc_curve\n",
        "from sklearn.metrics import roc_auc_score\n",
        "#Get predicted probabilites from the model\n",
        "y_probabilities = lr_clf.predict_proba(X_test)[:,1]\n",
        "#Create true and false positive rates\n",
        "false_positive_rate_lr_clf,true_positive_rate_lr_clf,threshold_lr_clf = roc_curve(y_test,y_probabilities)\n",
        "#Calculate area under the curve\n",
        "roc_auc_score(y_test,y_probabilities)"
      ]
    },
    {
      "cell_type": "markdown",
      "metadata": {},
      "source": [
        "## ROC CURVE"
      ]
    },
    {
      "cell_type": "code",
      "execution_count": 40,
      "metadata": {},
      "outputs": [
        {
          "data": {
            "image/png": "[encoded data removed]",
            "text/plain": [
              "<Figure size 720x432 with 1 Axes>"
            ]
          },
          "metadata": {},
          "output_type": "display_data"
        }
      ],
      "source": [
        "from sklearn.metrics import roc_curve\n",
        "plt.figure(figsize=(10,6))\n",
        "plt.title('Revceiver Operating Characterstic')\n",
        "plt.plot(false_positive_rate_lr_clf,true_positive_rate_lr_clf)\n",
        "plt.plot([0,1],ls='--')\n",
        "plt.xlabel('False Positive Rate')\n",
        "plt.ylabel('True Positive Rate')\n",
        "plt.show()"
      ]
    }
  ],
  "metadata": {
    "colab": {
      "name": "train oversampling.ipynb",
      "provenance": []
    },
    "kernelspec": {
      "display_name": "Python 3",
      "name": "python3"
    },
    "language_info": {
      "codemirror_mode": {
        "name": "ipython",
        "version": 3
      },
      "file_extension": ".py",
      "mimetype": "text/x-python",
      "name": "python",
      "nbconvert_exporter": "python",
      "pygments_lexer": "ipython3",
      "version": "3.9.8"
    }
  },
  "nbformat": 4,
  "nbformat_minor": 0
}

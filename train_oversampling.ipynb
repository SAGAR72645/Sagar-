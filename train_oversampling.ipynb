{
  "nbformat": 4,
  "nbformat_minor": 0,
  "metadata": {
    "colab": {
      "name": "train oversampling.ipynb",
      "provenance": []
    },
    "kernelspec": {
      "name": "python3",
      "display_name": "Python 3"
    },
    "language_info": {
      "name": "python"
    }
  },
  "cells": [
    {
      "cell_type": "code",
      "execution_count": 1,
      "metadata": {
        "id": "sSQVPGQvYVKb"
      },
      "outputs": [],
      "source": [
        "#loading dataset\n",
        "import pandas as pd\n",
        "import numpy as np\n",
        "\n",
        "#visualisation\n",
        "import matplotlib.pyplot as plt\n",
        "import seaborn as sns\n",
        "# data preprocessing\n",
        "from sklearn.preprocessing import StandardScaler\n",
        "\n",
        "# data splitting\n",
        "from sklearn.model_selection import train_test_split\n",
        "\n",
        "# data modeling\n",
        "from sklearn.metrics import confusion_matrix\n",
        "from sklearn.metrics import accuracy_score\n",
        "from sklearn.metrics import roc_curve\n",
        "from sklearn.metrics import classification_report\n",
        "from sklearn.metrics import roc_auc_score\n",
        "\n",
        "# All Model`s\n",
        "from sklearn.linear_model import LogisticRegression\n",
        "from sklearn.neighbors import KNeighborsClassifier\n",
        "from sklearn.svm import SVC\n",
        "from sklearn.ensemble import RandomForestClassifier\n",
        "from sklearn.tree import DecisionTreeClassifier\n",
        "from xgboost import XGBClassifier\n",
        "from sklearn.ensemble import  AdaBoostClassifier\n",
        "from sklearn.ensemble import  GradientBoostingClassifier"
      ]
    },
    {
      "cell_type": "code",
      "source": [
        "import warnings\n",
        "warnings.filterwarnings('ignore')"
      ],
      "metadata": {
        "id": "PQ175ZMEYuoI"
      },
      "execution_count": 2,
      "outputs": []
    },
    {
      "cell_type": "code",
      "source": [
        "df = pd.read_csv(r\"/content/drive/MyDrive/PCA_50_features new.csv\")\n",
        "df.sample(5)"
      ],
      "metadata": {
        "colab": {
          "base_uri": "https://localhost:8080/",
          "height": 300
        },
        "id": "yfSm4pjMY1uT",
        "outputId": "10eb93ef-457d-4e8d-a961-ba5a974b0844"
      },
      "execution_count": 3,
      "outputs": [
        {
          "output_type": "execute_result",
          "data": {
            "text/plain": [
              "              0         1         2         3         4         5         6  \\\n",
              "29366 -2.132084  4.309147 -4.304544 -6.068978  2.806751  2.408787 -0.765691   \n",
              "23615 -1.780374 -1.265708 -1.076752  1.432798 -2.496938  0.239494 -1.887028   \n",
              "22229 -3.101651 -1.426756  0.952055  0.148769  2.035272 -3.884238  0.685677   \n",
              "25034 -4.682691 -0.987065  0.265389 -0.477354 -0.067266 -1.643923 -0.102450   \n",
              "38893  5.510855 -1.904306  1.525668  1.115010 -4.280530 -1.642448 -3.352297   \n",
              "\n",
              "              7         8         9  ...        41        42        43  \\\n",
              "29366 -1.750159  1.236261  0.047750  ...  0.418673  0.223992 -0.671080   \n",
              "23615 -1.405908  1.488426  0.835950  ...  0.268630  0.438935  0.332967   \n",
              "22229 -1.497856 -0.018116  0.661257  ...  0.483539 -0.284198 -0.779277   \n",
              "25034 -0.250178  0.050376  0.236073  ...  0.358058  0.356341  0.667958   \n",
              "38893  2.021591  4.131455 -0.202038  ... -0.702460  0.973670  0.196433   \n",
              "\n",
              "             44        45        46        47        48        49  result  \n",
              "29366  0.174298 -0.933442 -0.595131  0.011499 -0.241829  0.575417       0  \n",
              "23615 -0.017062  0.622107  0.357133  0.329133  0.426193  0.488793       0  \n",
              "22229 -0.223326 -0.001536  0.259600  0.235076  0.268252  0.232775       0  \n",
              "25034  0.306028 -0.242856 -0.369223 -0.126931 -0.023303 -0.390637       0  \n",
              "38893  0.568177  0.845680  0.158302  0.264057  0.075852  0.017040       0  \n",
              "\n",
              "[5 rows x 51 columns]"
            ],
            "text/html": [
              "\n",
              "  <div id=\"df-7e6af133-3f1e-44a4-ad7b-5609c5c1b0ed\">\n",
              "    <div class=\"colab-df-container\">\n",
              "      <div>\n",
              "<style scoped>\n",
              "    .dataframe tbody tr th:only-of-type {\n",
              "        vertical-align: middle;\n",
              "    }\n",
              "\n",
              "    .dataframe tbody tr th {\n",
              "        vertical-align: top;\n",
              "    }\n",
              "\n",
              "    .dataframe thead th {\n",
              "        text-align: right;\n",
              "    }\n",
              "</style>\n",
              "<table border=\"1\" class=\"dataframe\">\n",
              "  <thead>\n",
              "    <tr style=\"text-align: right;\">\n",
              "      <th></th>\n",
              "      <th>0</th>\n",
              "      <th>1</th>\n",
              "      <th>2</th>\n",
              "      <th>3</th>\n",
              "      <th>4</th>\n",
              "      <th>5</th>\n",
              "      <th>6</th>\n",
              "      <th>7</th>\n",
              "      <th>8</th>\n",
              "      <th>9</th>\n",
              "      <th>...</th>\n",
              "      <th>41</th>\n",
              "      <th>42</th>\n",
              "      <th>43</th>\n",
              "      <th>44</th>\n",
              "      <th>45</th>\n",
              "      <th>46</th>\n",
              "      <th>47</th>\n",
              "      <th>48</th>\n",
              "      <th>49</th>\n",
              "      <th>result</th>\n",
              "    </tr>\n",
              "  </thead>\n",
              "  <tbody>\n",
              "    <tr>\n",
              "      <th>29366</th>\n",
              "      <td>-2.132084</td>\n",
              "      <td>4.309147</td>\n",
              "      <td>-4.304544</td>\n",
              "      <td>-6.068978</td>\n",
              "      <td>2.806751</td>\n",
              "      <td>2.408787</td>\n",
              "      <td>-0.765691</td>\n",
              "      <td>-1.750159</td>\n",
              "      <td>1.236261</td>\n",
              "      <td>0.047750</td>\n",
              "      <td>...</td>\n",
              "      <td>0.418673</td>\n",
              "      <td>0.223992</td>\n",
              "      <td>-0.671080</td>\n",
              "      <td>0.174298</td>\n",
              "      <td>-0.933442</td>\n",
              "      <td>-0.595131</td>\n",
              "      <td>0.011499</td>\n",
              "      <td>-0.241829</td>\n",
              "      <td>0.575417</td>\n",
              "      <td>0</td>\n",
              "    </tr>\n",
              "    <tr>\n",
              "      <th>23615</th>\n",
              "      <td>-1.780374</td>\n",
              "      <td>-1.265708</td>\n",
              "      <td>-1.076752</td>\n",
              "      <td>1.432798</td>\n",
              "      <td>-2.496938</td>\n",
              "      <td>0.239494</td>\n",
              "      <td>-1.887028</td>\n",
              "      <td>-1.405908</td>\n",
              "      <td>1.488426</td>\n",
              "      <td>0.835950</td>\n",
              "      <td>...</td>\n",
              "      <td>0.268630</td>\n",
              "      <td>0.438935</td>\n",
              "      <td>0.332967</td>\n",
              "      <td>-0.017062</td>\n",
              "      <td>0.622107</td>\n",
              "      <td>0.357133</td>\n",
              "      <td>0.329133</td>\n",
              "      <td>0.426193</td>\n",
              "      <td>0.488793</td>\n",
              "      <td>0</td>\n",
              "    </tr>\n",
              "    <tr>\n",
              "      <th>22229</th>\n",
              "      <td>-3.101651</td>\n",
              "      <td>-1.426756</td>\n",
              "      <td>0.952055</td>\n",
              "      <td>0.148769</td>\n",
              "      <td>2.035272</td>\n",
              "      <td>-3.884238</td>\n",
              "      <td>0.685677</td>\n",
              "      <td>-1.497856</td>\n",
              "      <td>-0.018116</td>\n",
              "      <td>0.661257</td>\n",
              "      <td>...</td>\n",
              "      <td>0.483539</td>\n",
              "      <td>-0.284198</td>\n",
              "      <td>-0.779277</td>\n",
              "      <td>-0.223326</td>\n",
              "      <td>-0.001536</td>\n",
              "      <td>0.259600</td>\n",
              "      <td>0.235076</td>\n",
              "      <td>0.268252</td>\n",
              "      <td>0.232775</td>\n",
              "      <td>0</td>\n",
              "    </tr>\n",
              "    <tr>\n",
              "      <th>25034</th>\n",
              "      <td>-4.682691</td>\n",
              "      <td>-0.987065</td>\n",
              "      <td>0.265389</td>\n",
              "      <td>-0.477354</td>\n",
              "      <td>-0.067266</td>\n",
              "      <td>-1.643923</td>\n",
              "      <td>-0.102450</td>\n",
              "      <td>-0.250178</td>\n",
              "      <td>0.050376</td>\n",
              "      <td>0.236073</td>\n",
              "      <td>...</td>\n",
              "      <td>0.358058</td>\n",
              "      <td>0.356341</td>\n",
              "      <td>0.667958</td>\n",
              "      <td>0.306028</td>\n",
              "      <td>-0.242856</td>\n",
              "      <td>-0.369223</td>\n",
              "      <td>-0.126931</td>\n",
              "      <td>-0.023303</td>\n",
              "      <td>-0.390637</td>\n",
              "      <td>0</td>\n",
              "    </tr>\n",
              "    <tr>\n",
              "      <th>38893</th>\n",
              "      <td>5.510855</td>\n",
              "      <td>-1.904306</td>\n",
              "      <td>1.525668</td>\n",
              "      <td>1.115010</td>\n",
              "      <td>-4.280530</td>\n",
              "      <td>-1.642448</td>\n",
              "      <td>-3.352297</td>\n",
              "      <td>2.021591</td>\n",
              "      <td>4.131455</td>\n",
              "      <td>-0.202038</td>\n",
              "      <td>...</td>\n",
              "      <td>-0.702460</td>\n",
              "      <td>0.973670</td>\n",
              "      <td>0.196433</td>\n",
              "      <td>0.568177</td>\n",
              "      <td>0.845680</td>\n",
              "      <td>0.158302</td>\n",
              "      <td>0.264057</td>\n",
              "      <td>0.075852</td>\n",
              "      <td>0.017040</td>\n",
              "      <td>0</td>\n",
              "    </tr>\n",
              "  </tbody>\n",
              "</table>\n",
              "<p>5 rows × 51 columns</p>\n",
              "</div>\n",
              "      <button class=\"colab-df-convert\" onclick=\"convertToInteractive('df-7e6af133-3f1e-44a4-ad7b-5609c5c1b0ed')\"\n",
              "              title=\"Convert this dataframe to an interactive table.\"\n",
              "              style=\"display:none;\">\n",
              "        \n",
              "  <svg xmlns=\"http://www.w3.org/2000/svg\" height=\"24px\"viewBox=\"0 0 24 24\"\n",
              "       width=\"24px\">\n",
              "    <path d=\"M0 0h24v24H0V0z\" fill=\"none\"/>\n",
              "    <path d=\"M18.56 5.44l.94 2.06.94-2.06 2.06-.94-2.06-.94-.94-2.06-.94 2.06-2.06.94zm-11 1L8.5 8.5l.94-2.06 2.06-.94-2.06-.94L8.5 2.5l-.94 2.06-2.06.94zm10 10l.94 2.06.94-2.06 2.06-.94-2.06-.94-.94-2.06-.94 2.06-2.06.94z\"/><path d=\"M17.41 7.96l-1.37-1.37c-.4-.4-.92-.59-1.43-.59-.52 0-1.04.2-1.43.59L10.3 9.45l-7.72 7.72c-.78.78-.78 2.05 0 2.83L4 21.41c.39.39.9.59 1.41.59.51 0 1.02-.2 1.41-.59l7.78-7.78 2.81-2.81c.8-.78.8-2.07 0-2.86zM5.41 20L4 18.59l7.72-7.72 1.47 1.35L5.41 20z\"/>\n",
              "  </svg>\n",
              "      </button>\n",
              "      \n",
              "  <style>\n",
              "    .colab-df-container {\n",
              "      display:flex;\n",
              "      flex-wrap:wrap;\n",
              "      gap: 12px;\n",
              "    }\n",
              "\n",
              "    .colab-df-convert {\n",
              "      background-color: #E8F0FE;\n",
              "      border: none;\n",
              "      border-radius: 50%;\n",
              "      cursor: pointer;\n",
              "      display: none;\n",
              "      fill: #1967D2;\n",
              "      height: 32px;\n",
              "      padding: 0 0 0 0;\n",
              "      width: 32px;\n",
              "    }\n",
              "\n",
              "    .colab-df-convert:hover {\n",
              "      background-color: #E2EBFA;\n",
              "      box-shadow: 0px 1px 2px rgba(60, 64, 67, 0.3), 0px 1px 3px 1px rgba(60, 64, 67, 0.15);\n",
              "      fill: #174EA6;\n",
              "    }\n",
              "\n",
              "    [theme=dark] .colab-df-convert {\n",
              "      background-color: #3B4455;\n",
              "      fill: #D2E3FC;\n",
              "    }\n",
              "\n",
              "    [theme=dark] .colab-df-convert:hover {\n",
              "      background-color: #434B5C;\n",
              "      box-shadow: 0px 1px 3px 1px rgba(0, 0, 0, 0.15);\n",
              "      filter: drop-shadow(0px 1px 2px rgba(0, 0, 0, 0.3));\n",
              "      fill: #FFFFFF;\n",
              "    }\n",
              "  </style>\n",
              "\n",
              "      <script>\n",
              "        const buttonEl =\n",
              "          document.querySelector('#df-7e6af133-3f1e-44a4-ad7b-5609c5c1b0ed button.colab-df-convert');\n",
              "        buttonEl.style.display =\n",
              "          google.colab.kernel.accessAllowed ? 'block' : 'none';\n",
              "\n",
              "        async function convertToInteractive(key) {\n",
              "          const element = document.querySelector('#df-7e6af133-3f1e-44a4-ad7b-5609c5c1b0ed');\n",
              "          const dataTable =\n",
              "            await google.colab.kernel.invokeFunction('convertToInteractive',\n",
              "                                                     [key], {});\n",
              "          if (!dataTable) return;\n",
              "\n",
              "          const docLinkHtml = 'Like what you see? Visit the ' +\n",
              "            '<a target=\"_blank\" href=https://colab.research.google.com/notebooks/data_table.ipynb>data table notebook</a>'\n",
              "            + ' to learn more about interactive tables.';\n",
              "          element.innerHTML = '';\n",
              "          dataTable['output_type'] = 'display_data';\n",
              "          await google.colab.output.renderOutput(dataTable, element);\n",
              "          const docLink = document.createElement('div');\n",
              "          docLink.innerHTML = docLinkHtml;\n",
              "          element.appendChild(docLink);\n",
              "        }\n",
              "      </script>\n",
              "    </div>\n",
              "  </div>\n",
              "  "
            ]
          },
          "metadata": {},
          "execution_count": 3
        }
      ]
    },
    {
      "cell_type": "code",
      "source": [
        "df.result.value_counts()"
      ],
      "metadata": {
        "colab": {
          "base_uri": "https://localhost:8080/"
        },
        "id": "aypKIf4HY7fH",
        "outputId": "ba1c8643-e773-4b38-eb04-af0ecc28cf13"
      },
      "execution_count": 4,
      "outputs": [
        {
          "output_type": "execute_result",
          "data": {
            "text/plain": [
              "0    42209\n",
              "1     5667\n",
              "Name: result, dtype: int64"
            ]
          },
          "metadata": {},
          "execution_count": 4
        }
      ]
    },
    {
      "cell_type": "code",
      "source": [
        "pip install tensorflow-addons"
      ],
      "metadata": {
        "colab": {
          "base_uri": "https://localhost:8080/"
        },
        "id": "3tdDE6p_ZCAv",
        "outputId": "04f05846-8914-4758-a024-eb375c99de02"
      },
      "execution_count": 5,
      "outputs": [
        {
          "output_type": "stream",
          "name": "stdout",
          "text": [
            "Collecting tensorflow-addons\n",
            "  Downloading tensorflow_addons-0.16.1-cp37-cp37m-manylinux_2_12_x86_64.manylinux2010_x86_64.whl (1.1 MB)\n",
            "\u001b[K     |████████████████████████████████| 1.1 MB 3.6 MB/s \n",
            "\u001b[?25hRequirement already satisfied: typeguard>=2.7 in /usr/local/lib/python3.7/dist-packages (from tensorflow-addons) (2.7.1)\n",
            "Installing collected packages: tensorflow-addons\n",
            "Successfully installed tensorflow-addons-0.16.1\n"
          ]
        }
      ]
    },
    {
      "cell_type": "code",
      "source": [
        "import tensorflow as tf\n",
        "from tensorflow import keras\n",
        "from sklearn.metrics import confusion_matrix , classification_report\n",
        "\n",
        "from tensorflow_addons import losses"
      ],
      "metadata": {
        "id": "ARVTbaPOZKWX"
      },
      "execution_count": 6,
      "outputs": []
    },
    {
      "cell_type": "code",
      "source": [
        "from sklearn.model_selection import train_test_split\n",
        "\n",
        "X=df.iloc[:,:-1].values\n",
        "y=df.iloc[:,-1].values"
      ],
      "metadata": {
        "id": "MS6DwAeGaSnr"
      },
      "execution_count": 9,
      "outputs": []
    },
    {
      "cell_type": "code",
      "source": [
        "X.shape,y.shape"
      ],
      "metadata": {
        "colab": {
          "base_uri": "https://localhost:8080/"
        },
        "id": "hQ83WTx3am4n",
        "outputId": "0732b081-a676-4037-f3aa-3b7933f3f3d0"
      },
      "execution_count": 10,
      "outputs": [
        {
          "output_type": "execute_result",
          "data": {
            "text/plain": [
              "((47876, 50), (47876,))"
            ]
          },
          "metadata": {},
          "execution_count": 10
        }
      ]
    },
    {
      "cell_type": "code",
      "source": [
        "from imblearn.over_sampling import SMOTE\n",
        "\n",
        "from sklearn.model_selection import train_test_split\n",
        "\n",
        "X_train, X_test, y_train, y_test = train_test_split(X, y, test_size=0.3, random_state=0)\n",
        "\n",
        "print(\"Number transactions X_train dataset: \", X_train.shape)\n",
        "print(\"Number transactions y_train dataset: \", y_train.shape)\n",
        "print(\"Number transactions X_test dataset: \", X_test.shape)\n",
        "print(\"Number transactions y_test dataset: \", y_test.shape)"
      ],
      "metadata": {
        "colab": {
          "base_uri": "https://localhost:8080/"
        },
        "id": "DqMeG7rxZyxn",
        "outputId": "2d2c2b8f-cc12-4092-b00e-59cf1f42175c"
      },
      "execution_count": 11,
      "outputs": [
        {
          "output_type": "stream",
          "name": "stdout",
          "text": [
            "Number transactions X_train dataset:  (33513, 50)\n",
            "Number transactions y_train dataset:  (33513,)\n",
            "Number transactions X_test dataset:  (14363, 50)\n",
            "Number transactions y_test dataset:  (14363,)\n"
          ]
        }
      ]
    },
    {
      "cell_type": "code",
      "source": [
        "print(\"Before OverSampling, counts of label '1': {}\".format(sum(y_train==1)))\n",
        "print(\"Before OverSampling, counts of label '0': {} \\n\".format(sum(y_train==0)))\n",
        "\n",
        "sm = SMOTE(random_state=2)\n",
        "X_train_res, y_train_res = sm.fit_resample(X_train, y_train.ravel())\n",
        "\n",
        "print('After OverSampling, the shape of train_X: {}'.format(X_train_res.shape))\n",
        "print('After OverSampling, the shape of train_y: {} \\n'.format(y_train_res.shape))\n",
        "\n",
        "print(\"After OverSampling, counts of label '1': {}\".format(sum(y_train_res==1)))\n",
        "print(\"After OverSampling, counts of label '0': {}\".format(sum(y_train_res==0)))"
      ],
      "metadata": {
        "colab": {
          "base_uri": "https://localhost:8080/"
        },
        "id": "GFXzcWc5bCtW",
        "outputId": "7a07a412-ff94-4675-e1f9-b0f29e12daa6"
      },
      "execution_count": 13,
      "outputs": [
        {
          "output_type": "stream",
          "name": "stdout",
          "text": [
            "Before OverSampling, counts of label '1': 3975\n",
            "Before OverSampling, counts of label '0': 29538 \n",
            "\n",
            "After OverSampling, the shape of train_X: (59076, 50)\n",
            "After OverSampling, the shape of train_y: (59076,) \n",
            "\n",
            "After OverSampling, counts of label '1': 29538\n",
            "After OverSampling, counts of label '0': 29538\n"
          ]
        }
      ]
    },
    {
      "cell_type": "code",
      "source": [
        "X_test.shape,y_test.shape"
      ],
      "metadata": {
        "colab": {
          "base_uri": "https://localhost:8080/"
        },
        "id": "j2u7U3BObSVu",
        "outputId": "d02bac4f-803c-439d-80f4-6fdbbe5ff1bb"
      },
      "execution_count": 15,
      "outputs": [
        {
          "output_type": "execute_result",
          "data": {
            "text/plain": [
              "((14363, 50), (14363,))"
            ]
          },
          "metadata": {},
          "execution_count": 15
        }
      ]
    },
    {
      "cell_type": "markdown",
      "source": [
        "Artificial neural Network"
      ],
      "metadata": {
        "id": "03FkefXCeGu5"
      }
    },
    {
      "cell_type": "code",
      "source": [
        "def ANN(X_train, y_train, X_test, y_test, loss, weights):\n",
        "    model = keras.Sequential([\n",
        "        keras.layers.Dense(26, input_dim=50, activation='relu'),\n",
        "        keras.layers.Dense(15, activation='relu'),\n",
        "        keras.layers.Dense(1, activation='sigmoid')\n",
        "    ])\n",
        "\n",
        "    model.compile(optimizer='adam', loss=loss, metrics=['accuracy'])\n",
        "    \n",
        "    if weights == -1:\n",
        "        model.fit(X_train, y_train, epochs=100)\n",
        "    else:\n",
        "        model.fit(X_train, y_train, epochs=100, class_weight = weights)\n",
        "    \n",
        "    print(model.evaluate(X_test, y_test))\n",
        "    \n",
        "    y_preds = model.predict(X_test)\n",
        "    y_preds = np.round(y_preds)\n",
        "    \n",
        "    print(\"Classification Report: \\n\", classification_report(y_test, y_preds))\n",
        "    \n",
        "    return y_preds"
      ],
      "metadata": {
        "id": "sz44_3VMbooG"
      },
      "execution_count": 16,
      "outputs": []
    },
    {
      "cell_type": "code",
      "source": [
        "y_preds = ANN(X_train_res, y_train_res, X_test, y_test, 'binary_crossentropy', -1)"
      ],
      "metadata": {
        "colab": {
          "base_uri": "https://localhost:8080/"
        },
        "id": "n9InHSNKb0YW",
        "outputId": "a6d11d8e-8c30-40f1-ea33-951f5e2978b4"
      },
      "execution_count": 17,
      "outputs": [
        {
          "output_type": "stream",
          "name": "stdout",
          "text": [
            "Epoch 1/100\n",
            "1847/1847 [==============================] - 5s 2ms/step - loss: 0.4644 - accuracy: 0.7814\n",
            "Epoch 2/100\n",
            "1847/1847 [==============================] - 4s 2ms/step - loss: 0.3561 - accuracy: 0.8413\n",
            "Epoch 3/100\n",
            "1847/1847 [==============================] - 4s 2ms/step - loss: 0.3197 - accuracy: 0.8620\n",
            "Epoch 4/100\n",
            "1847/1847 [==============================] - 5s 2ms/step - loss: 0.2982 - accuracy: 0.8739\n",
            "Epoch 5/100\n",
            "1847/1847 [==============================] - 4s 2ms/step - loss: 0.2845 - accuracy: 0.8803\n",
            "Epoch 6/100\n",
            "1847/1847 [==============================] - 4s 2ms/step - loss: 0.2744 - accuracy: 0.8852\n",
            "Epoch 7/100\n",
            "1847/1847 [==============================] - 4s 2ms/step - loss: 0.2662 - accuracy: 0.8897\n",
            "Epoch 8/100\n",
            "1847/1847 [==============================] - 5s 2ms/step - loss: 0.2594 - accuracy: 0.8918\n",
            "Epoch 9/100\n",
            "1847/1847 [==============================] - 4s 2ms/step - loss: 0.2531 - accuracy: 0.8967\n",
            "Epoch 10/100\n",
            "1847/1847 [==============================] - 4s 2ms/step - loss: 0.2468 - accuracy: 0.8984\n",
            "Epoch 11/100\n",
            "1847/1847 [==============================] - 4s 2ms/step - loss: 0.2420 - accuracy: 0.9015\n",
            "Epoch 12/100\n",
            "1847/1847 [==============================] - 4s 2ms/step - loss: 0.2408 - accuracy: 0.9028\n",
            "Epoch 13/100\n",
            "1847/1847 [==============================] - 4s 2ms/step - loss: 0.2350 - accuracy: 0.9054\n",
            "Epoch 14/100\n",
            "1847/1847 [==============================] - 4s 2ms/step - loss: 0.2302 - accuracy: 0.9071\n",
            "Epoch 15/100\n",
            "1847/1847 [==============================] - 4s 2ms/step - loss: 0.2268 - accuracy: 0.9083\n",
            "Epoch 16/100\n",
            "1847/1847 [==============================] - 4s 2ms/step - loss: 0.2249 - accuracy: 0.9106\n",
            "Epoch 17/100\n",
            "1847/1847 [==============================] - 4s 2ms/step - loss: 0.2214 - accuracy: 0.9121\n",
            "Epoch 18/100\n",
            "1847/1847 [==============================] - 4s 2ms/step - loss: 0.2185 - accuracy: 0.9136\n",
            "Epoch 19/100\n",
            "1847/1847 [==============================] - 4s 2ms/step - loss: 0.2161 - accuracy: 0.9145\n",
            "Epoch 20/100\n",
            "1847/1847 [==============================] - 4s 2ms/step - loss: 0.2147 - accuracy: 0.9158\n",
            "Epoch 21/100\n",
            "1847/1847 [==============================] - 4s 2ms/step - loss: 0.2126 - accuracy: 0.9162\n",
            "Epoch 22/100\n",
            "1847/1847 [==============================] - 4s 2ms/step - loss: 0.2091 - accuracy: 0.9169\n",
            "Epoch 23/100\n",
            "1847/1847 [==============================] - 4s 2ms/step - loss: 0.2082 - accuracy: 0.9178\n",
            "Epoch 24/100\n",
            "1847/1847 [==============================] - 4s 2ms/step - loss: 0.2068 - accuracy: 0.9182\n",
            "Epoch 25/100\n",
            "1847/1847 [==============================] - 4s 2ms/step - loss: 0.2043 - accuracy: 0.9193\n",
            "Epoch 26/100\n",
            "1847/1847 [==============================] - 5s 3ms/step - loss: 0.2039 - accuracy: 0.9200\n",
            "Epoch 27/100\n",
            "1847/1847 [==============================] - 4s 2ms/step - loss: 0.2014 - accuracy: 0.9208\n",
            "Epoch 28/100\n",
            "1847/1847 [==============================] - 4s 2ms/step - loss: 0.2009 - accuracy: 0.9209\n",
            "Epoch 29/100\n",
            "1847/1847 [==============================] - 4s 2ms/step - loss: 0.1992 - accuracy: 0.9219\n",
            "Epoch 30/100\n",
            "1847/1847 [==============================] - 4s 2ms/step - loss: 0.1981 - accuracy: 0.9217\n",
            "Epoch 31/100\n",
            "1847/1847 [==============================] - 4s 2ms/step - loss: 0.1982 - accuracy: 0.9226\n",
            "Epoch 32/100\n",
            "1847/1847 [==============================] - 4s 2ms/step - loss: 0.1972 - accuracy: 0.9225\n",
            "Epoch 33/100\n",
            "1847/1847 [==============================] - 4s 2ms/step - loss: 0.1953 - accuracy: 0.9229\n",
            "Epoch 34/100\n",
            "1847/1847 [==============================] - 4s 2ms/step - loss: 0.1958 - accuracy: 0.9231\n",
            "Epoch 35/100\n",
            "1847/1847 [==============================] - 4s 2ms/step - loss: 0.1922 - accuracy: 0.9240\n",
            "Epoch 36/100\n",
            "1847/1847 [==============================] - 5s 2ms/step - loss: 0.1938 - accuracy: 0.9240\n",
            "Epoch 37/100\n",
            "1847/1847 [==============================] - 4s 2ms/step - loss: 0.1918 - accuracy: 0.9245\n",
            "Epoch 38/100\n",
            "1847/1847 [==============================] - 4s 2ms/step - loss: 0.1913 - accuracy: 0.9253\n",
            "Epoch 39/100\n",
            "1847/1847 [==============================] - 4s 2ms/step - loss: 0.1921 - accuracy: 0.9245\n",
            "Epoch 40/100\n",
            "1847/1847 [==============================] - 4s 2ms/step - loss: 0.1904 - accuracy: 0.9264\n",
            "Epoch 41/100\n",
            "1847/1847 [==============================] - 4s 2ms/step - loss: 0.1902 - accuracy: 0.9262\n",
            "Epoch 42/100\n",
            "1847/1847 [==============================] - 5s 3ms/step - loss: 0.1879 - accuracy: 0.9262\n",
            "Epoch 43/100\n",
            "1847/1847 [==============================] - 4s 2ms/step - loss: 0.1879 - accuracy: 0.9254\n",
            "Epoch 44/100\n",
            "1847/1847 [==============================] - 4s 2ms/step - loss: 0.1871 - accuracy: 0.9276\n",
            "Epoch 45/100\n",
            "1847/1847 [==============================] - 4s 2ms/step - loss: 0.1862 - accuracy: 0.9270\n",
            "Epoch 46/100\n",
            "1847/1847 [==============================] - 5s 3ms/step - loss: 0.1860 - accuracy: 0.9278\n",
            "Epoch 47/100\n",
            "1847/1847 [==============================] - 4s 2ms/step - loss: 0.1852 - accuracy: 0.9266\n",
            "Epoch 48/100\n",
            "1847/1847 [==============================] - 5s 3ms/step - loss: 0.1838 - accuracy: 0.9286\n",
            "Epoch 49/100\n",
            "1847/1847 [==============================] - 5s 2ms/step - loss: 0.1859 - accuracy: 0.9272\n",
            "Epoch 50/100\n",
            "1847/1847 [==============================] - 4s 2ms/step - loss: 0.1835 - accuracy: 0.9282\n",
            "Epoch 51/100\n",
            "1847/1847 [==============================] - 4s 2ms/step - loss: 0.1832 - accuracy: 0.9279\n",
            "Epoch 52/100\n",
            "1847/1847 [==============================] - 5s 2ms/step - loss: 0.1835 - accuracy: 0.9284\n",
            "Epoch 53/100\n",
            "1847/1847 [==============================] - 5s 3ms/step - loss: 0.1815 - accuracy: 0.9277\n",
            "Epoch 54/100\n",
            "1847/1847 [==============================] - 5s 3ms/step - loss: 0.1834 - accuracy: 0.9288\n",
            "Epoch 55/100\n",
            "1847/1847 [==============================] - 5s 2ms/step - loss: 0.1798 - accuracy: 0.9303\n",
            "Epoch 56/100\n",
            "1847/1847 [==============================] - 4s 2ms/step - loss: 0.1817 - accuracy: 0.9286\n",
            "Epoch 57/100\n",
            "1847/1847 [==============================] - 4s 2ms/step - loss: 0.1802 - accuracy: 0.9303\n",
            "Epoch 58/100\n",
            "1847/1847 [==============================] - 5s 3ms/step - loss: 0.1810 - accuracy: 0.9307\n",
            "Epoch 59/100\n",
            "1847/1847 [==============================] - 5s 3ms/step - loss: 0.1796 - accuracy: 0.9301\n",
            "Epoch 60/100\n",
            "1847/1847 [==============================] - 4s 2ms/step - loss: 0.1794 - accuracy: 0.9297\n",
            "Epoch 61/100\n",
            "1847/1847 [==============================] - 5s 3ms/step - loss: 0.1791 - accuracy: 0.9305\n",
            "Epoch 62/100\n",
            "1847/1847 [==============================] - 5s 3ms/step - loss: 0.1801 - accuracy: 0.9305\n",
            "Epoch 63/100\n",
            "1847/1847 [==============================] - 4s 2ms/step - loss: 0.1789 - accuracy: 0.9300\n",
            "Epoch 64/100\n",
            "1847/1847 [==============================] - 5s 3ms/step - loss: 0.1782 - accuracy: 0.9317\n",
            "Epoch 65/100\n",
            "1847/1847 [==============================] - 5s 3ms/step - loss: 0.1782 - accuracy: 0.9308\n",
            "Epoch 66/100\n",
            "1847/1847 [==============================] - 4s 2ms/step - loss: 0.1799 - accuracy: 0.9306\n",
            "Epoch 67/100\n",
            "1847/1847 [==============================] - 4s 2ms/step - loss: 0.1768 - accuracy: 0.9313\n",
            "Epoch 68/100\n",
            "1847/1847 [==============================] - 4s 2ms/step - loss: 0.1762 - accuracy: 0.9308\n",
            "Epoch 69/100\n",
            "1847/1847 [==============================] - 5s 3ms/step - loss: 0.1763 - accuracy: 0.9321\n",
            "Epoch 70/100\n",
            "1847/1847 [==============================] - 5s 3ms/step - loss: 0.1775 - accuracy: 0.9315\n",
            "Epoch 71/100\n",
            "1847/1847 [==============================] - 4s 2ms/step - loss: 0.1768 - accuracy: 0.9317\n",
            "Epoch 72/100\n",
            "1847/1847 [==============================] - 5s 3ms/step - loss: 0.1766 - accuracy: 0.9316\n",
            "Epoch 73/100\n",
            "1847/1847 [==============================] - 5s 3ms/step - loss: 0.1759 - accuracy: 0.9318\n",
            "Epoch 74/100\n",
            "1847/1847 [==============================] - 5s 3ms/step - loss: 0.1767 - accuracy: 0.9320\n",
            "Epoch 75/100\n",
            "1847/1847 [==============================] - 4s 2ms/step - loss: 0.1762 - accuracy: 0.9331\n",
            "Epoch 76/100\n",
            "1847/1847 [==============================] - 4s 2ms/step - loss: 0.1747 - accuracy: 0.9330\n",
            "Epoch 77/100\n",
            "1847/1847 [==============================] - 4s 2ms/step - loss: 0.1752 - accuracy: 0.9324\n",
            "Epoch 78/100\n",
            "1847/1847 [==============================] - 5s 3ms/step - loss: 0.1765 - accuracy: 0.9323\n",
            "Epoch 79/100\n",
            "1847/1847 [==============================] - 4s 2ms/step - loss: 0.1743 - accuracy: 0.9329\n",
            "Epoch 80/100\n",
            "1847/1847 [==============================] - 4s 2ms/step - loss: 0.1732 - accuracy: 0.9325\n",
            "Epoch 81/100\n",
            "1847/1847 [==============================] - 5s 2ms/step - loss: 0.1720 - accuracy: 0.9335\n",
            "Epoch 82/100\n",
            "1847/1847 [==============================] - 4s 2ms/step - loss: 0.1742 - accuracy: 0.9325\n",
            "Epoch 83/100\n",
            "1847/1847 [==============================] - 4s 2ms/step - loss: 0.1734 - accuracy: 0.9321\n",
            "Epoch 84/100\n",
            "1847/1847 [==============================] - 4s 2ms/step - loss: 0.1714 - accuracy: 0.9328\n",
            "Epoch 85/100\n",
            "1847/1847 [==============================] - 4s 2ms/step - loss: 0.1727 - accuracy: 0.9332\n",
            "Epoch 86/100\n",
            "1847/1847 [==============================] - 4s 2ms/step - loss: 0.1717 - accuracy: 0.9340\n",
            "Epoch 87/100\n",
            "1847/1847 [==============================] - 4s 2ms/step - loss: 0.1710 - accuracy: 0.9337\n",
            "Epoch 88/100\n",
            "1847/1847 [==============================] - 4s 2ms/step - loss: 0.1719 - accuracy: 0.9336\n",
            "Epoch 89/100\n",
            "1847/1847 [==============================] - 4s 2ms/step - loss: 0.1713 - accuracy: 0.9339\n",
            "Epoch 90/100\n",
            "1847/1847 [==============================] - 4s 2ms/step - loss: 0.1720 - accuracy: 0.9327\n",
            "Epoch 91/100\n",
            "1847/1847 [==============================] - 4s 2ms/step - loss: 0.1710 - accuracy: 0.9338\n",
            "Epoch 92/100\n",
            "1847/1847 [==============================] - 4s 2ms/step - loss: 0.1718 - accuracy: 0.9331\n",
            "Epoch 93/100\n",
            "1847/1847 [==============================] - 4s 2ms/step - loss: 0.1703 - accuracy: 0.9341\n",
            "Epoch 94/100\n",
            "1847/1847 [==============================] - 4s 2ms/step - loss: 0.1715 - accuracy: 0.9336\n",
            "Epoch 95/100\n",
            "1847/1847 [==============================] - 4s 2ms/step - loss: 0.1695 - accuracy: 0.9345\n",
            "Epoch 96/100\n",
            "1847/1847 [==============================] - 4s 2ms/step - loss: 0.1704 - accuracy: 0.9339\n",
            "Epoch 97/100\n",
            "1847/1847 [==============================] - 4s 2ms/step - loss: 0.1689 - accuracy: 0.9354\n",
            "Epoch 98/100\n",
            "1847/1847 [==============================] - 4s 2ms/step - loss: 0.1727 - accuracy: 0.9331\n",
            "Epoch 99/100\n",
            "1847/1847 [==============================] - 4s 2ms/step - loss: 0.1678 - accuracy: 0.9345\n",
            "Epoch 100/100\n",
            "1847/1847 [==============================] - 4s 2ms/step - loss: 0.1683 - accuracy: 0.9342\n",
            "449/449 [==============================] - 1s 2ms/step - loss: 0.3886 - accuracy: 0.8687\n",
            "[0.3885843753814697, 0.8686903715133667]\n",
            "Classification Report: \n",
            "               precision    recall  f1-score   support\n",
            "\n",
            "           0       0.96      0.89      0.92     12671\n",
            "           1       0.46      0.71      0.56      1692\n",
            "\n",
            "    accuracy                           0.87     14363\n",
            "   macro avg       0.71      0.80      0.74     14363\n",
            "weighted avg       0.90      0.87      0.88     14363\n",
            "\n"
          ]
        }
      ]
    },
    {
      "cell_type": "code",
      "source": [
        "\n",
        "cf_matrix = confusion_matrix(y_test, y_preds)\n",
        "\n",
        "group_names = ['True Neg','False Pos','False Neg','True Pos']\n",
        "\n",
        "group_counts = [\"{0:0.0f}\".format(value) for value in\n",
        "                cf_matrix.flatten()]\n",
        "\n",
        "group_percentages = [\"{0:.2%}\".format(value) for value in\n",
        "                     cf_matrix.flatten()/np.sum(cf_matrix)]\n",
        "\n",
        "labels = [f\"{v1}\\n{v2}\\n{v3}\" for v1, v2, v3 in\n",
        "          zip(group_names,group_counts,group_percentages)]\n",
        "\n",
        "labels = np.asarray(labels).reshape(2,2)\n",
        "\n",
        "ax = sns.heatmap(cf_matrix, annot=labels, fmt='', cmap='RdGy')\n",
        "\n",
        "ax.set_title('Confusion Matrix for Test Data');\n",
        "ax.set_xlabel('Predicted Values')\n",
        "ax.set_ylabel('True Values ');\n",
        "\n",
        "## Ticket labels - List must be in alphabetical order\n",
        "ax.xaxis.set_ticklabels(['False','True'])\n",
        "ax.yaxis.set_ticklabels(['Ture','False'])\n",
        "\n",
        "## Display the visualization of the Confusion Matrix.\n",
        "plt.show()"
      ],
      "metadata": {
        "colab": {
          "base_uri": "https://localhost:8080/",
          "height": 295
        },
        "id": "OJo2o3S1d5rf",
        "outputId": "2618e735-3c02-4c1b-b5a8-f0506ad4d182"
      },
      "execution_count": 18,
      "outputs": [
        {
          "output_type": "display_data",
          "data": {
            "text/plain": [
              "<Figure size 432x288 with 2 Axes>"
            ],
            "image/png": "[encoded data removed]"
          },
          "metadata": {
            "needs_background": "light"
          }
        }
      ]
    },
    {
      "cell_type": "code",
      "source": [
        "def print_score(clf, X_train, y_train, X_test, y_test, train=True):\n",
        "    if train:\n",
        "        pred = clf.predict(X_train)\n",
        "        clf_report = pd.DataFrame(classification_report(y_train, pred, output_dict=True))\n",
        "        print(\"Train Result:\\n================================================\")\n",
        "        print(f\"Accuracy Score: {accuracy_score(y_train, pred) * 100:.2f}%\")\n",
        "        print(\"_______________________________________________\")\n",
        "        print(f\"CLASSIFICATION REPORT:\\n{clf_report}\")\n",
        "        print(\"_______________________________________________\")\n",
        "        print(f\"Confusion Matrix: \\n {confusion_matrix(y_train, pred)}\\n\")\n",
        "        \n",
        "    elif train==False:\n",
        "        pred = clf.predict(X_test)\n",
        "        clf_report = pd.DataFrame(classification_report(y_test, pred, output_dict=True))\n",
        "        print(\"Test Result:\\n================================================\")        \n",
        "        print(f\"Accuracy Score: {accuracy_score(y_test, pred) * 100:.2f}%\")\n",
        "        print(\"_______________________________________________\")\n",
        "        print(f\"CLASSIFICATION REPORT:\\n{clf_report}\")\n",
        "        print(\"_______________________________________________\")\n",
        "        print(f\"Confusion Matrix: \\n {confusion_matrix(y_test, pred)}\\n\")"
      ],
      "metadata": {
        "id": "d3pOpw1leExX"
      },
      "execution_count": 19,
      "outputs": []
    },
    {
      "cell_type": "markdown",
      "source": [
        "XGBOOST MODEL"
      ],
      "metadata": {
        "id": "tpE4KNisfP5g"
      }
    },
    {
      "cell_type": "code",
      "source": [
        "from xgboost import XGBClassifier\n",
        "\n",
        "xgb_clf = XGBClassifier()\n",
        "xgb_clf.fit(X_train_res, y_train_res)\n",
        "\n",
        "print_score(xgb_clf, X_train_res, y_train_res, X_test, y_test, train=True)\n",
        "print_score(xgb_clf, X_train_res, y_train_res, X_test, y_test, train=False)"
      ],
      "metadata": {
        "colab": {
          "base_uri": "https://localhost:8080/"
        },
        "id": "2gZMDGCbecVu",
        "outputId": "243a86be-b20d-46fb-f4bc-e03f34d65df5"
      },
      "execution_count": 22,
      "outputs": [
        {
          "output_type": "stream",
          "name": "stdout",
          "text": [
            "Train Result:\n",
            "================================================\n",
            "Accuracy Score: 83.03%\n",
            "_______________________________________________\n",
            "CLASSIFICATION REPORT:\n",
            "                      0             1  accuracy     macro avg  weighted avg\n",
            "precision      0.843363      0.818232   0.83032      0.830798      0.830798\n",
            "recall         0.811328      0.849313   0.83032      0.830320      0.830320\n",
            "f1-score       0.827035      0.833483   0.83032      0.830259      0.830259\n",
            "support    29538.000000  29538.000000   0.83032  59076.000000  59076.000000\n",
            "_______________________________________________\n",
            "Confusion Matrix: \n",
            " [[23965  5573]\n",
            " [ 4451 25087]]\n",
            "\n",
            "Test Result:\n",
            "================================================\n",
            "Accuracy Score: 78.64%\n",
            "_______________________________________________\n",
            "CLASSIFICATION REPORT:\n",
            "                      0            1  accuracy     macro avg  weighted avg\n",
            "precision      0.960134     0.324847  0.786396      0.642491      0.885296\n",
            "recall         0.790703     0.754137  0.786396      0.772420      0.786396\n",
            "f1-score       0.867221     0.454093  0.786396      0.660657      0.818553\n",
            "support    12671.000000  1692.000000  0.786396  14363.000000  14363.000000\n",
            "_______________________________________________\n",
            "Confusion Matrix: \n",
            " [[10019  2652]\n",
            " [  416  1276]]\n",
            "\n"
          ]
        }
      ]
    },
    {
      "cell_type": "code",
      "source": [
        "y_pred = xgb_clf.predict(X_test)\n",
        "cf_matrix = confusion_matrix(y_test, y_pred)\n",
        "\n",
        "group_names = ['True Neg','False Pos','False Neg','True Pos']\n",
        "\n",
        "group_counts = [\"{0:0.0f}\".format(value) for value in\n",
        "                cf_matrix.flatten()]\n",
        "\n",
        "group_percentages = [\"{0:.2%}\".format(value) for value in\n",
        "                     cf_matrix.flatten()/np.sum(cf_matrix)]\n",
        "\n",
        "labels = [f\"{v1}\\n{v2}\\n{v3}\" for v1, v2, v3 in\n",
        "          zip(group_names,group_counts,group_percentages)]\n",
        "\n",
        "labels = np.asarray(labels).reshape(2,2)\n",
        "\n",
        "ax = sns.heatmap(cf_matrix, annot=labels, fmt='', cmap='RdGy')\n",
        "\n",
        "ax.set_title('Confusion Matrix for Test Data');\n",
        "ax.set_xlabel('Predicted Values')\n",
        "ax.set_ylabel('True Values ');\n",
        "\n",
        "## Ticket labels - List must be in alphabetical order\n",
        "ax.xaxis.set_ticklabels(['False','True'])\n",
        "ax.yaxis.set_ticklabels(['Ture','False'])\n",
        "\n",
        "## Display the visualization of the Confusion Matrix.\n",
        "plt.show()"
      ],
      "metadata": {
        "colab": {
          "base_uri": "https://localhost:8080/",
          "height": 295
        },
        "id": "9SBS6trdfOt1",
        "outputId": "2f32d4a5-c1e6-4fd6-c9a1-3b1f6ea27441"
      },
      "execution_count": 23,
      "outputs": [
        {
          "output_type": "display_data",
          "data": {
            "text/plain": [
              "<Figure size 432x288 with 2 Axes>"
            ],
            "image/png": "[encoded data removed]"
          },
          "metadata": {
            "needs_background": "light"
          }
        }
      ]
    },
    {
      "cell_type": "code",
      "source": [
        "from sklearn.metrics import roc_curve\n",
        "from sklearn.metrics import roc_auc_score\n",
        "#Get predicted probabilites from the model\n",
        "y_probabilities = xgb_clf.predict_proba(X_test)[:,1]\n",
        "#Create true and false positive rates\n",
        "false_positive_rate_xgb_clf,true_positive_rate_xgb_clf,threshold_xgb_clf = roc_curve(y_test,y_probabilities)\n",
        "#Calculate area under the curve\n",
        "roc_auc_score(y_test,y_probabilities)"
      ],
      "metadata": {
        "colab": {
          "base_uri": "https://localhost:8080/"
        },
        "id": "8GAT1RejfdMe",
        "outputId": "a4f1c9c8-d021-476c-fc8d-54fbed935e80"
      },
      "execution_count": 24,
      "outputs": [
        {
          "output_type": "execute_result",
          "data": {
            "text/plain": [
              "0.8505148154802584"
            ]
          },
          "metadata": {},
          "execution_count": 24
        }
      ]
    },
    {
      "cell_type": "markdown",
      "source": [
        "LGBM MODEL"
      ],
      "metadata": {
        "id": "dbbAz5ELf8_w"
      }
    },
    {
      "cell_type": "code",
      "source": [
        "from lightgbm import LGBMClassifier\n",
        "lgbmc_clf = LGBMClassifier(int = 10,) \n",
        "lgbmc_clf.fit(X_train_res, y_train_res)\n",
        "\n",
        "print_score(lgbmc_clf, X_train_res, y_train_res, X_test, y_test, train=True)\n",
        "print_score(lgbmc_clf, X_train_res, y_train_res, X_test, y_test, train=False)"
      ],
      "metadata": {
        "colab": {
          "base_uri": "https://localhost:8080/"
        },
        "id": "5iQRjcrHfkRg",
        "outputId": "eed2e5ba-8d73-4825-f33e-cd4fa7a068c5"
      },
      "execution_count": 25,
      "outputs": [
        {
          "output_type": "stream",
          "name": "stdout",
          "text": [
            "Train Result:\n",
            "================================================\n",
            "Accuracy Score: 91.11%\n",
            "_______________________________________________\n",
            "CLASSIFICATION REPORT:\n",
            "                      0             1  accuracy     macro avg  weighted avg\n",
            "precision      0.923010      0.899806  0.911081      0.911408      0.911408\n",
            "recall         0.896980      0.925181  0.911081      0.911081      0.911081\n",
            "f1-score       0.909809      0.912317  0.911081      0.911063      0.911063\n",
            "support    29538.000000  29538.000000  0.911081  59076.000000  59076.000000\n",
            "_______________________________________________\n",
            "Confusion Matrix: \n",
            " [[26495  3043]\n",
            " [ 2210 27328]]\n",
            "\n",
            "Test Result:\n",
            "================================================\n",
            "Accuracy Score: 85.34%\n",
            "_______________________________________________\n",
            "CLASSIFICATION REPORT:\n",
            "                      0            1  accuracy     macro avg  weighted avg\n",
            "precision      0.961152     0.428817  0.853373      0.694985      0.898442\n",
            "recall         0.868913     0.736998  0.853373      0.802955      0.853373\n",
            "f1-score       0.912708     0.542174  0.853373      0.727441      0.869058\n",
            "support    12671.000000  1692.000000  0.853373  14363.000000  14363.000000\n",
            "_______________________________________________\n",
            "Confusion Matrix: \n",
            " [[11010  1661]\n",
            " [  445  1247]]\n",
            "\n"
          ]
        }
      ]
    },
    {
      "cell_type": "code",
      "source": [
        "y_pred = lgbmc_clf.predict(X_test)\n",
        "cf_matrix = confusion_matrix(y_test, y_pred)\n",
        "\n",
        "group_names = ['True Neg','False Pos','False Neg','True Pos']\n",
        "\n",
        "group_counts = [\"{0:0.0f}\".format(value) for value in\n",
        "                cf_matrix.flatten()]\n",
        "\n",
        "group_percentages = [\"{0:.2%}\".format(value) for value in\n",
        "                     cf_matrix.flatten()/np.sum(cf_matrix)]\n",
        "\n",
        "labels = [f\"{v1}\\n{v2}\\n{v3}\" for v1, v2, v3 in\n",
        "          zip(group_names,group_counts,group_percentages)]\n",
        "\n",
        "labels = np.asarray(labels).reshape(2,2)\n",
        "\n",
        "ax = sns.heatmap(cf_matrix, annot=labels, fmt='', cmap='RdGy')\n",
        "\n",
        "ax.set_title('Confusion Matrix for Test Data');\n",
        "ax.set_xlabel('Predicted Values')\n",
        "ax.set_ylabel('Actual Values ');\n",
        "\n",
        "## Ticket labels - List must be in alphabetical order\n",
        "ax.xaxis.set_ticklabels(['False','True'])\n",
        "ax.yaxis.set_ticklabels(['False','True'])\n",
        "\n",
        "## Display the visualization of the Confusion Matrix.\n",
        "plt.show()"
      ],
      "metadata": {
        "colab": {
          "base_uri": "https://localhost:8080/",
          "height": 295
        },
        "id": "Uz19cZp8f_-t",
        "outputId": "96a47285-c0e3-4640-c2fe-abfe234aa918"
      },
      "execution_count": 26,
      "outputs": [
        {
          "output_type": "display_data",
          "data": {
            "text/plain": [
              "<Figure size 432x288 with 2 Axes>"
            ],
            "image/png": "[encoded data removed]"
          },
          "metadata": {
            "needs_background": "light"
          }
        }
      ]
    },
    {
      "cell_type": "code",
      "source": [
        "from sklearn.metrics import roc_curve\n",
        "from sklearn.metrics import roc_auc_score\n",
        "#Get predicted probabilites from the model\n",
        "y_probabilities = lgbmc_clf.predict_proba(X_test)[:,1]\n",
        "#Create true and false positive rates\n",
        "false_positive_rate_lgbmc_clf,true_positive_rate_lgbmc_clf,threshold_lgbmc_clf = roc_curve(y_test,y_probabilities)\n",
        "#Calculate area under the curve\n",
        "roc_auc_score(y_test,y_probabilities)"
      ],
      "metadata": {
        "colab": {
          "base_uri": "https://localhost:8080/"
        },
        "id": "Mi9q1TJqgHO0",
        "outputId": "dc7d78f9-e8c2-4144-f437-7572a76c4500"
      },
      "execution_count": 27,
      "outputs": [
        {
          "output_type": "execute_result",
          "data": {
            "text/plain": [
              "0.8910685743380438"
            ]
          },
          "metadata": {},
          "execution_count": 27
        }
      ]
    },
    {
      "cell_type": "markdown",
      "source": [
        "SUPPORT VECTOR METHOD"
      ],
      "metadata": {
        "id": "gv9bdP8ggNoH"
      }
    },
    {
      "cell_type": "code",
      "source": [
        "from sklearn.svm import SVC\n",
        "\n",
        "svm_clf = SVC(probability=True, C=5,)\n",
        "svm_clf.fit(X_train_res, y_train_res)\n",
        "\n",
        "print_score(svm_clf, X_train_res, y_train_res, X_test, y_test, train=True)\n",
        "print_score(svm_clf, X_train_res, y_train_res, X_test, y_test, train=False)"
      ],
      "metadata": {
        "colab": {
          "base_uri": "https://localhost:8080/"
        },
        "id": "MVvVSp24gcYJ",
        "outputId": "30d2903e-fbaf-4a02-82d9-5ffd458e33c2"
      },
      "execution_count": 29,
      "outputs": [
        {
          "output_type": "stream",
          "name": "stdout",
          "text": [
            "Train Result:\n",
            "================================================\n",
            "Accuracy Score: 92.25%\n",
            "_______________________________________________\n",
            "CLASSIFICATION REPORT:\n",
            "                      0             1  accuracy     macro avg  weighted avg\n",
            "precision      0.948340      0.899488  0.922507      0.923914      0.923914\n",
            "recall         0.893696      0.951317  0.922507      0.922507      0.922507\n",
            "f1-score       0.920208      0.924677  0.922507      0.922442      0.922442\n",
            "support    29538.000000  29538.000000  0.922507  59076.000000  59076.000000\n",
            "_______________________________________________\n",
            "Confusion Matrix: \n",
            " [[26398  3140]\n",
            " [ 1438 28100]]\n",
            "\n",
            "Test Result:\n",
            "================================================\n",
            "Accuracy Score: 85.37%\n",
            "_______________________________________________\n",
            "CLASSIFICATION REPORT:\n",
            "                      0            1  accuracy     macro avg  weighted avg\n",
            "precision      0.962134     0.429986  0.853652      0.696060      0.899445\n",
            "recall         0.868282     0.744090  0.853652      0.806186      0.853652\n",
            "f1-score       0.912802     0.545022  0.853652      0.728912      0.869476\n",
            "support    12671.000000  1692.000000  0.853652  14363.000000  14363.000000\n",
            "_______________________________________________\n",
            "Confusion Matrix: \n",
            " [[11002  1669]\n",
            " [  433  1259]]\n",
            "\n"
          ]
        }
      ]
    },
    {
      "cell_type": "code",
      "source": [
        "y_pred = svm_clf.predict(X_test)\n",
        "cf_matrix = confusion_matrix(y_test, y_pred)\n",
        "\n",
        "group_names = ['True Neg','False Pos','False Neg','True Pos']\n",
        "\n",
        "group_counts = [\"{0:0.0f}\".format(value) for value in\n",
        "                cf_matrix.flatten()]\n",
        "\n",
        "group_percentages = [\"{0:.2%}\".format(value) for value in\n",
        "                     cf_matrix.flatten()/np.sum(cf_matrix)]\n",
        "\n",
        "labels = [f\"{v1}\\n{v2}\\n{v3}\" for v1, v2, v3 in\n",
        "          zip(group_names,group_counts,group_percentages)]\n",
        "\n",
        "labels = np.asarray(labels).reshape(2,2)\n",
        "\n",
        "ax = sns.heatmap(cf_matrix, annot=labels, fmt='', cmap='RdGy')\n",
        "\n",
        "ax.set_title('Confusion Matrix for Test Data');\n",
        "ax.set_xlabel('Predicted Values')\n",
        "ax.set_ylabel('Actual Values ');\n",
        "\n",
        "## Ticket labels - List must be in alphabetical order\n",
        "ax.xaxis.set_ticklabels(['False','True'])\n",
        "ax.yaxis.set_ticklabels(['False','True'])\n",
        "\n",
        "## Display the visualization of the Confusion Matrix.\n",
        "plt.show()"
      ],
      "metadata": {
        "colab": {
          "base_uri": "https://localhost:8080/",
          "height": 295
        },
        "id": "GCaEPpGTqYNA",
        "outputId": "2fe60b3b-3264-4ef5-aeca-1ecd1a942462"
      },
      "execution_count": 30,
      "outputs": [
        {
          "output_type": "display_data",
          "data": {
            "text/plain": [
              "<Figure size 432x288 with 2 Axes>"
            ],
            "image/png": "[encoded data removed]"
          },
          "metadata": {
            "needs_background": "light"
          }
        }
      ]
    },
    {
      "cell_type": "code",
      "source": [
        "from sklearn.metrics import roc_curve\n",
        "from sklearn.metrics import roc_auc_score\n",
        "#Get predicted probabilites from the model\n",
        "y_probabilities = svm_clf.predict_proba(X_test)[:,1]\n",
        "#Create true and false positive rates\n",
        "false_positive_rate_svm_clf,true_positive_rate_svm_clf,threshold_svm_clf = roc_curve(y_test,y_probabilities)\n",
        "#Calculate area under the curve\n",
        "roc_auc_score(y_test,y_probabilities)"
      ],
      "metadata": {
        "colab": {
          "base_uri": "https://localhost:8080/"
        },
        "id": "d7tvGXvNqrpj",
        "outputId": "1a946257-2187-4627-c2a7-e87538b3f7f9"
      },
      "execution_count": 31,
      "outputs": [
        {
          "output_type": "execute_result",
          "data": {
            "text/plain": [
              "0.8903753624413299"
            ]
          },
          "metadata": {},
          "execution_count": 31
        }
      ]
    },
    {
      "cell_type": "markdown",
      "source": [
        "KNN"
      ],
      "metadata": {
        "id": "vC2lGv_uq347"
      }
    },
    {
      "cell_type": "code",
      "source": [
        "from sklearn.neighbors import KNeighborsClassifier\n",
        "\n",
        "knn_clf = KNeighborsClassifier(n_neighbors=40, leaf_size=30)\n",
        "knn_clf.fit(X_train_res, y_train_res)\n",
        "\n",
        "print_score(knn_clf, X_train_res, y_train_res, X_test, y_test, train=True)\n",
        "print_score(knn_clf, X_train_res, y_train_res, X_test, y_test, train=False)"
      ],
      "metadata": {
        "colab": {
          "base_uri": "https://localhost:8080/"
        },
        "id": "LqAhhQJOq16Q",
        "outputId": "2f9a8a89-943e-4e41-c341-afc6c2666c2d"
      },
      "execution_count": 32,
      "outputs": [
        {
          "output_type": "stream",
          "name": "stdout",
          "text": [
            "Train Result:\n",
            "================================================\n",
            "Accuracy Score: 83.81%\n",
            "_______________________________________________\n",
            "CLASSIFICATION REPORT:\n",
            "                      0             1  accuracy     macro avg  weighted avg\n",
            "precision      0.959724      0.767396  0.838124      0.863560      0.863560\n",
            "recall         0.705870      0.970377  0.838124      0.838124      0.838124\n",
            "f1-score       0.813452      0.857032  0.838124      0.835242      0.835242\n",
            "support    29538.000000  29538.000000  0.838124  59076.000000  59076.000000\n",
            "_______________________________________________\n",
            "Confusion Matrix: \n",
            " [[20850  8688]\n",
            " [  875 28663]]\n",
            "\n",
            "Test Result:\n",
            "================================================\n",
            "Accuracy Score: 70.70%\n",
            "_______________________________________________\n",
            "CLASSIFICATION REPORT:\n",
            "                      0            1  accuracy     macro avg  weighted avg\n",
            "precision      0.974649     0.269090  0.707025      0.621870      0.891533\n",
            "recall         0.685739     0.866430  0.707025      0.776085      0.707025\n",
            "f1-score       0.805059     0.410644  0.707025      0.607852      0.758596\n",
            "support    12671.000000  1692.000000  0.707025  14363.000000  14363.000000\n",
            "_______________________________________________\n",
            "Confusion Matrix: \n",
            " [[8689 3982]\n",
            " [ 226 1466]]\n",
            "\n"
          ]
        }
      ]
    },
    {
      "cell_type": "code",
      "source": [
        "y_pred = knn_clf.predict(X_test)\n",
        "cf_matrix = confusion_matrix(y_test, y_pred)\n",
        "\n",
        "group_names = ['True Neg','False Pos','False Neg','True Pos']\n",
        "\n",
        "group_counts = [\"{0:0.0f}\".format(value) for value in\n",
        "                cf_matrix.flatten()]\n",
        "\n",
        "group_percentages = [\"{0:.2%}\".format(value) for value in\n",
        "                     cf_matrix.flatten()/np.sum(cf_matrix)]\n",
        "\n",
        "labels = [f\"{v1}\\n{v2}\\n{v3}\" for v1, v2, v3 in\n",
        "          zip(group_names,group_counts,group_percentages)]\n",
        "\n",
        "labels = np.asarray(labels).reshape(2,2)\n",
        "\n",
        "ax = sns.heatmap(cf_matrix, annot=labels, fmt='', cmap='RdGy')\n",
        "\n",
        "ax.set_title('Confusion Matrix for Test Data');\n",
        "ax.set_xlabel('Predicted Values')\n",
        "ax.set_ylabel('Actual Values ');\n",
        "\n",
        "## Ticket labels - List must be in alphabetical order\n",
        "ax.xaxis.set_ticklabels(['False','True'])\n",
        "ax.yaxis.set_ticklabels(['False','True'])\n",
        "\n",
        "## Display the visualization of the Confusion Matrix.\n",
        "plt.show()"
      ],
      "metadata": {
        "colab": {
          "base_uri": "https://localhost:8080/",
          "height": 295
        },
        "id": "6nNGGUcWrr8g",
        "outputId": "1ade00ee-aaa6-4bf1-fb5d-e45e17988b1a"
      },
      "execution_count": 33,
      "outputs": [
        {
          "output_type": "display_data",
          "data": {
            "text/plain": [
              "<Figure size 432x288 with 2 Axes>"
            ],
            "image/png": "[encoded data removed]"
          },
          "metadata": {
            "needs_background": "light"
          }
        }
      ]
    },
    {
      "cell_type": "code",
      "source": [
        "from sklearn.metrics import roc_curve\n",
        "from sklearn.metrics import roc_auc_score\n",
        "#Get predicted probabilites from the model\n",
        "y_probabilities = knn_clf.predict_proba(X_test)[:,1]\n",
        "#Create true and false positive rates\n",
        "false_positive_rate_knn_clf,true_positive_rate_knn_clf,threshold_knn_clf = roc_curve(y_test,y_probabilities)\n",
        "#Calculate area under the curve\n",
        "roc_auc_score(y_test,y_probabilities)"
      ],
      "metadata": {
        "colab": {
          "base_uri": "https://localhost:8080/"
        },
        "id": "X6G92QLqr7Ch",
        "outputId": "21028d85-01df-4c97-8575-10f64820f8f9"
      },
      "execution_count": 34,
      "outputs": [
        {
          "output_type": "execute_result",
          "data": {
            "text/plain": [
              "0.8836791416822128"
            ]
          },
          "metadata": {},
          "execution_count": 34
        }
      ]
    },
    {
      "cell_type": "code",
      "source": [
        "from sklearn.neighbors import KNeighborsClassifier\n",
        "no_neighbors = np.arange(1, 9)\n",
        "train_accuracy = np.empty(len(no_neighbors))\n",
        "test_accuracy = np.empty(len(no_neighbors))\n",
        "\n",
        "for i, k in enumerate(no_neighbors):\n",
        "    # We instantiate the classifier\n",
        "    knn_clf = KNeighborsClassifier(n_neighbors=k)\n",
        "    # Fit the classifier to the training data\n",
        "    knn_clf.fit(X_train_res, y_train_res)\n",
        "    \n",
        "    # Compute accuracy on the training set\n",
        "    train_accuracy[i] = knn_clf.score(X_train_res, y_train_res)\n",
        "\n",
        "    # Compute accuracy on the testing set\n",
        "    test_accuracy[i] = knn_clf.score(X_test, y_test)\n",
        "\n",
        "# Visualization of k values vs accuracy\n",
        "sns.set_style('whitegrid')\n",
        "plt.figure(figsize=(10,6))\n",
        "\n",
        "plt.title('k-NN: Varying Number of Neighbors')\n",
        "plt.plot(no_neighbors, test_accuracy, label = 'Testing Accuracy')\n",
        "plt.plot(no_neighbors, train_accuracy, label = 'Training Accuracy')\n",
        "plt.legend()\n",
        "plt.xlabel('Number of Neighbors')\n",
        "plt.ylabel('Accuracy')\n",
        "plt.show()"
      ],
      "metadata": {
        "colab": {
          "base_uri": "https://localhost:8080/",
          "height": 404
        },
        "id": "9XbPE2CIsYTs",
        "outputId": "85bc78e0-a1a1-4c95-e112-498996fa9406"
      },
      "execution_count": 36,
      "outputs": [
        {
          "output_type": "display_data",
          "data": {
            "text/plain": [
              "<Figure size 720x432 with 1 Axes>"
            ],
            "image/png": "[encoded data removed]"
          },
          "metadata": {}
        }
      ]
    },
    {
      "cell_type": "markdown",
      "source": [
        "GRADIENT BOOSTING CLASSIFER"
      ],
      "metadata": {
        "id": "g0fzH-klvw-R"
      }
    },
    {
      "cell_type": "code",
      "source": [
        "from sklearn.ensemble import GradientBoostingClassifier\n",
        "gb_clf = GradientBoostingClassifier( min_samples_split=30, min_samples_leaf=10,)\n",
        "gb_clf.fit(X_train_res, y_train_res)\n",
        "\n",
        "print_score(gb_clf, X_train_res, y_train_res, X_test, y_test, train=True)\n",
        "print_score(gb_clf, X_train_res, y_train_res, X_test, y_test, train=False)"
      ],
      "metadata": {
        "colab": {
          "base_uri": "https://localhost:8080/"
        },
        "id": "cYndDAJUvxiX",
        "outputId": "23791adb-2eb4-41be-de85-33fe62c782fd"
      },
      "execution_count": 38,
      "outputs": [
        {
          "output_type": "stream",
          "name": "stdout",
          "text": [
            "Train Result:\n",
            "================================================\n",
            "Accuracy Score: 83.35%\n",
            "_______________________________________________\n",
            "CLASSIFICATION REPORT:\n",
            "                      0             1  accuracy     macro avg  weighted avg\n",
            "precision      0.843709      0.823821  0.833469      0.833765      0.833765\n",
            "recall         0.818573      0.848365  0.833469      0.833469      0.833469\n",
            "f1-score       0.830951      0.835913  0.833469      0.833432      0.833432\n",
            "support    29538.000000  29538.000000  0.833469  59076.000000  59076.000000\n",
            "_______________________________________________\n",
            "Confusion Matrix: \n",
            " [[24179  5359]\n",
            " [ 4479 25059]]\n",
            "\n",
            "Test Result:\n",
            "================================================\n",
            "Accuracy Score: 79.20%\n",
            "_______________________________________________\n",
            "CLASSIFICATION REPORT:\n",
            "                      0            1  accuracy     macro avg  weighted avg\n",
            "precision      0.959916     0.331160  0.792035      0.645538      0.885847\n",
            "recall         0.797569     0.750591  0.792035      0.774080      0.792035\n",
            "f1-score       0.871244     0.459562  0.792035      0.665403      0.822747\n",
            "support    12671.000000  1692.000000  0.792035  14363.000000  14363.000000\n",
            "_______________________________________________\n",
            "Confusion Matrix: \n",
            " [[10106  2565]\n",
            " [  422  1270]]\n",
            "\n"
          ]
        }
      ]
    },
    {
      "cell_type": "code",
      "source": [
        "y_pred = gb_clf.predict(X_test)\n",
        "cf_matrix = confusion_matrix(y_test, y_pred)\n",
        "\n",
        "group_names = ['True Neg','False Pos','False Neg','True Pos']\n",
        "\n",
        "group_counts = [\"{0:0.0f}\".format(value) for value in\n",
        "                cf_matrix.flatten()]\n",
        "\n",
        "group_percentages = [\"{0:.2%}\".format(value) for value in\n",
        "                     cf_matrix.flatten()/np.sum(cf_matrix)]\n",
        "\n",
        "labels = [f\"{v1}\\n{v2}\\n{v3}\" for v1, v2, v3 in\n",
        "          zip(group_names,group_counts,group_percentages)]\n",
        "\n",
        "labels = np.asarray(labels).reshape(2,2)\n",
        "\n",
        "ax = sns.heatmap(cf_matrix, annot=labels, fmt='', cmap='RdGy')\n",
        "\n",
        "ax.set_title('Confusion Matrix for Test Data');\n",
        "ax.set_xlabel('Predicted Values')\n",
        "ax.set_ylabel('Actual Values ');\n",
        "\n",
        "## Ticket labels - List must be in alphabetical order\n",
        "ax.xaxis.set_ticklabels(['False','True'])\n",
        "ax.yaxis.set_ticklabels(['False','True'])\n",
        "\n",
        "## Display the visualization of the Confusion Matrix.\n",
        "plt.show()"
      ],
      "metadata": {
        "colab": {
          "base_uri": "https://localhost:8080/",
          "height": 295
        },
        "id": "KV87pyiWxGVo",
        "outputId": "5daad28a-416e-46c6-c100-28e1c9cc648f"
      },
      "execution_count": 39,
      "outputs": [
        {
          "output_type": "display_data",
          "data": {
            "text/plain": [
              "<Figure size 432x288 with 2 Axes>"
            ],
            "image/png": "[encoded data removed]"
          },
          "metadata": {}
        }
      ]
    },
    {
      "cell_type": "code",
      "source": [
        "from sklearn.metrics import roc_curve\n",
        "from sklearn.metrics import roc_auc_score\n",
        "#Get predicted probabilites from the model\n",
        "y_probabilities = gb_clf.predict_proba(X_test)[:,1]\n",
        "#Create true and false positive rates\n",
        "false_positive_rate_gb_clf,true_positive_rate_gb_clf,threshold_gb_clf = roc_curve(y_test,y_probabilities)\n",
        "#Calculate area under the curve\n",
        "roc_auc_score(y_test,y_probabilities)"
      ],
      "metadata": {
        "colab": {
          "base_uri": "https://localhost:8080/"
        },
        "id": "Xq8mZpbTxPcQ",
        "outputId": "abc2a0ad-020f-4bd1-a07b-1c4272922995"
      },
      "execution_count": 40,
      "outputs": [
        {
          "output_type": "execute_result",
          "data": {
            "text/plain": [
              "0.8501629621669183"
            ]
          },
          "metadata": {},
          "execution_count": 40
        }
      ]
    }
  ]
}